{
  "cells": [
    {
      "cell_type": "markdown",
      "metadata": {
        "id": "view-in-github",
        "colab_type": "text"
      },
      "source": [
        "<a href=\"https://colab.research.google.com/github/pallavkumar1981/MSDS462-self-driving-car/blob/main/03_Test_Simulation.ipynb\" target=\"_parent\"><img src=\"https://colab.research.google.com/assets/colab-badge.svg\" alt=\"Open In Colab\"/></a>"
      ]
    },
    {
      "cell_type": "markdown",
      "metadata": {
        "id": "tMZPAyR-7uaJ"
      },
      "source": [
        "# Instructions\n",
        "\n",
        "* Run the simulator on local jupyter notebook.\n",
        "* Key considerations:\n",
        "    - Force install openCV version '4.5.4'. Avoid version 4.6 and above\n",
        "    - Download/unzip the image data (images and data.txt); and copy them under 'driving_dataset' directory\n",
        "    - Dataset - https://drive.google.com/file/d/1PZWa6H0i1PCH9zuYcIh5Ouk_p-9Gh58B/view\n",
        "    - Download the best performing model ('self_drive_model_E2E_v1.hdf5') under 'models' folder.\n",
        "    - Make sure the steering wheel image is copied in the working directory\n",
        "* Press 'q' to end simulation at any point\n",
        "\n"
      ]
    },
    {
      "cell_type": "markdown",
      "metadata": {
        "id": "NddAsSH1NpYB"
      },
      "source": [
        "# 0. Importing libraries"
      ]
    },
    {
      "cell_type": "code",
      "execution_count": null,
      "metadata": {
        "id": "F5PmYasm9Bvk"
      },
      "outputs": [],
      "source": [
        "import numpy as np\n",
        "import pandas as pd\n",
        "import seaborn as sns\n",
        "import matplotlib.pyplot as plt \n",
        "%matplotlib inline\n",
        "\n",
        "import tensorflow as tf\n",
        "from tensorflow import keras\n",
        "from tensorflow.keras.models import Sequential\n",
        "from tensorflow.keras.layers import Dense, Dropout, Flatten, Normalization\n",
        "from tensorflow.keras.layers import Conv2D, MaxPooling2D\n",
        "from tensorflow.keras.optimizers import Adam\n",
        "from tensorflow.keras.callbacks import EarlyStopping, ReduceLROnPlateau, ModelCheckpoint\n",
        "import tensorflow.keras.backend as K\n",
        "\n",
        "import os\n",
        "import random\n",
        "from scipy import pi\n",
        "from datetime import datetime\n",
        "import cv2\n",
        "import pickle\n",
        "import json\n",
        "from itertools import islice\n",
        "\n",
        "from sklearn.utils import shuffle\n",
        "from sklearn.model_selection import train_test_split\n",
        "from sklearn.metrics import mean_squared_error"
      ]
    },
    {
      "cell_type": "code",
      "execution_count": null,
      "metadata": {
        "id": "m97szHIvsjfF",
        "outputId": "bd73df9e-5493-4f19-efe6-361b25316c4e"
      },
      "outputs": [
        {
          "data": {
            "text/plain": [
              "'4.5.4'"
            ]
          },
          "execution_count": 2,
          "metadata": {},
          "output_type": "execute_result"
        }
      ],
      "source": [
        "cv2.__version__"
      ]
    },
    {
      "cell_type": "code",
      "execution_count": null,
      "metadata": {
        "id": "pf_1bxVHUQab"
      },
      "outputs": [],
      "source": []
    },
    {
      "cell_type": "markdown",
      "metadata": {
        "id": "j4EPr-u4wuCQ"
      },
      "source": [
        "# 1. Loading prepared data (train and validation) for model development"
      ]
    },
    {
      "cell_type": "code",
      "execution_count": null,
      "metadata": {
        "id": "R__JtR-7sjfP"
      },
      "outputs": [],
      "source": [
        "def loadPreparedDataFromPickle():\n",
        "    with open('./pickle/X_train.pkl', 'rb') as f:\n",
        "        Xtrain = np.array(pickle.load(f))\n",
        "    with open('./pickle/y_train.pkl', 'rb') as f:\n",
        "        ytrain = np.array(pickle.load(f))\n",
        "    with open('./pickle/X_val.pkl', 'rb') as f:\n",
        "        Xval = np.array(pickle.load(f))\n",
        "    with open('./pickle/y_val.pkl', 'rb') as f:\n",
        "        yval = np.array(pickle.load(f))\n",
        "    return Xtrain, ytrain, Xval, yval"
      ]
    },
    {
      "cell_type": "code",
      "execution_count": null,
      "metadata": {
        "colab": {
          "base_uri": "https://localhost:8080/"
        },
        "id": "dpMNFv5nsjfP",
        "outputId": "5e0c64d8-b5cd-4972-9e2c-794279f9a0d2"
      },
      "outputs": [
        {
          "name": "stdout",
          "output_type": "stream",
          "text": [
            "Wall time: 35 s\n"
          ]
        }
      ],
      "source": [
        "%%time\n",
        "X_train, y_train, X_val, y_val = loadPreparedDataFromPickle()"
      ]
    },
    {
      "cell_type": "code",
      "execution_count": null,
      "metadata": {
        "id": "OZrhM1FjByIg"
      },
      "outputs": [],
      "source": []
    },
    {
      "cell_type": "markdown",
      "metadata": {
        "id": "zwfrxHD1NyDW"
      },
      "source": [
        "# 2. Load the (best) model"
      ]
    },
    {
      "cell_type": "code",
      "execution_count": null,
      "metadata": {
        "id": "SVrEVcHYsjfS"
      },
      "outputs": [],
      "source": [
        "checkpoint_file_name = './models/self_drive_model_E2E_v1.hdf5'"
      ]
    },
    {
      "cell_type": "code",
      "execution_count": null,
      "metadata": {
        "id": "AaGLzK4R98jV"
      },
      "outputs": [],
      "source": [
        "def custom_activation(x):\n",
        "    return tf.multiply(tf.math.atan(x), 2) #  arctan range is [-pi/2, pi/2]. so we have to get the angle between [-pi, pi] so we are multiplying by 2"
      ]
    },
    {
      "cell_type": "code",
      "execution_count": null,
      "metadata": {
        "colab": {
          "base_uri": "https://localhost:8080/"
        },
        "id": "zBxci7uCyoRw",
        "outputId": "383fbbd4-0abe-4f60-ea13-b33c4730238a"
      },
      "outputs": [
        {
          "name": "stdout",
          "output_type": "stream",
          "text": [
            "Wall time: 6.2 s\n"
          ]
        }
      ],
      "source": [
        "%%time\n",
        "#https://stackoverflow.com/questions/55779286/valueerror-unknown-activation-function-my-custom-activation-function\n",
        "model_e2e = tf.keras.models.load_model(checkpoint_file_name, \n",
        "                                          custom_objects={'custom_activation':custom_activation})"
      ]
    },
    {
      "cell_type": "code",
      "execution_count": null,
      "metadata": {
        "id": "QtTY0mJusjfW"
      },
      "outputs": [],
      "source": []
    },
    {
      "cell_type": "markdown",
      "metadata": {
        "id": "Nrf2DVB8iW6I"
      },
      "source": [
        "## 3. Test Simulation - E2E learning model"
      ]
    },
    {
      "cell_type": "markdown",
      "metadata": {
        "id": "nGofaoCN98jZ"
      },
      "source": [
        "Reference: https://opencv-python-tutroals.readthedocs.io/en/latest/py_tutorials/py_imgproc/py_geometric_transformations/py_geometric_transformations.html"
      ]
    },
    {
      "cell_type": "code",
      "execution_count": null,
      "metadata": {
        "id": "WdzEZud2iJ-C"
      },
      "outputs": [],
      "source": [
        "#to rotate the steering image \n",
        "steering_img = cv2.imread('steering_wheel_image.jpg', 0)\n",
        "rows, cols = steering_img.shape\n",
        "smoothed_angle = 0"
      ]
    },
    {
      "cell_type": "code",
      "execution_count": null,
      "metadata": {
        "id": "yjFPWAdWiJ73",
        "outputId": "94de126d-021c-42dd-af57-3f9170c66e90"
      },
      "outputs": [
        {
          "name": "stdout",
          "output_type": "stream",
          "text": [
            "Predicted steering angle (degrees): [[8.465838]] | Actual steering angle (degrees) = 8.67\n",
            "Predicted steering angle (degrees): [[8.467807]] | Actual steering angle (degrees) = 20.869999999999997\n",
            "Predicted steering angle (degrees): [[13.81431]] | Actual steering angle (degrees) = 12.5\n",
            "Predicted steering angle (degrees): [[8.803147]] | Actual steering angle (degrees) = -7.460000000000001\n",
            "Predicted steering angle (degrees): [[2.8803794]] | Actual steering angle (degrees) = 0.0\n",
            "Predicted steering angle (degrees): [[6.2032065]] | Actual steering angle (degrees) = 9.18\n",
            "Predicted steering angle (degrees): [[1.1883109]] | Actual steering angle (degrees) = -2.12\n",
            "Predicted steering angle (degrees): [[-1.2299345]] | Actual steering angle (degrees) = -9.28\n",
            "Predicted steering angle (degrees): [[2.3184676]] | Actual steering angle (degrees) = 4.24\n",
            "Predicted steering angle (degrees): [[-5.225957]] | Actual steering angle (degrees) = -38.52\n",
            "Predicted steering angle (degrees): [[-3.4602132]] | Actual steering angle (degrees) = 28.13\n",
            "Predicted steering angle (degrees): [[-4.209237]] | Actual steering angle (degrees) = -0.5\n",
            "Predicted steering angle (degrees): [[-3.8989244]] | Actual steering angle (degrees) = 5.139999999999999\n",
            "Predicted steering angle (degrees): [[-14.839234]] | Actual steering angle (degrees) = 9.380000000000003\n",
            "Predicted steering angle (degrees): [[-12.293634]] | Actual steering angle (degrees) = 17.34\n",
            "Predicted steering angle (degrees): [[-14.656892]] | Actual steering angle (degrees) = 0.0\n",
            "Predicted steering angle (degrees): [[-14.674739]] | Actual steering angle (degrees) = 0.1\n",
            "Predicted steering angle (degrees): [[-12.173693]] | Actual steering angle (degrees) = 0.0\n",
            "Predicted steering angle (degrees): [[-10.875823]] | Actual steering angle (degrees) = 67.56\n",
            "Predicted steering angle (degrees): [[-12.460462]] | Actual steering angle (degrees) = 2.12\n",
            "Predicted steering angle (degrees): [[-12.100948]] | Actual steering angle (degrees) = -58.99000000000001\n",
            "Predicted steering angle (degrees): [[-9.648652]] | Actual steering angle (degrees) = -10.18\n",
            "Predicted steering angle (degrees): [[-4.6464567]] | Actual steering angle (degrees) = -2.32\n",
            "Predicted steering angle (degrees): [[-11.876176]] | Actual steering angle (degrees) = 4.64\n",
            "Predicted steering angle (degrees): [[-12.411167]] | Actual steering angle (degrees) = 8.27\n",
            "Predicted steering angle (degrees): [[-13.521224]] | Actual steering angle (degrees) = 1.82\n",
            "Predicted steering angle (degrees): [[-13.806787]] | Actual steering angle (degrees) = 11.089999999999998\n",
            "Predicted steering angle (degrees): [[-19.005966]] | Actual steering angle (degrees) = 8.87\n",
            "Predicted steering angle (degrees): [[-20.903269]] | Actual steering angle (degrees) = 36.90999999999999\n",
            "Predicted steering angle (degrees): [[-17.581133]] | Actual steering angle (degrees) = 10.79\n",
            "Predicted steering angle (degrees): [[-19.270174]] | Actual steering angle (degrees) = 24.0\n",
            "Predicted steering angle (degrees): [[-20.234983]] | Actual steering angle (degrees) = 0.2\n",
            "Predicted steering angle (degrees): [[-19.280813]] | Actual steering angle (degrees) = 166.69\n",
            "Predicted steering angle (degrees): [[-15.845659]] | Actual steering angle (degrees) = 2.32\n",
            "Predicted steering angle (degrees): [[-15.1558275]] | Actual steering angle (degrees) = 4.44\n",
            "Predicted steering angle (degrees): [[-18.728363]] | Actual steering angle (degrees) = -4.34\n",
            "Predicted steering angle (degrees): [[-15.932031]] | Actual steering angle (degrees) = -12.100000000000001\n",
            "Predicted steering angle (degrees): [[-13.194367]] | Actual steering angle (degrees) = 4.44\n",
            "Predicted steering angle (degrees): [[-1.7263161]] | Actual steering angle (degrees) = 12.300000000000002\n",
            "Predicted steering angle (degrees): [[-0.69225985]] | Actual steering angle (degrees) = 8.27\n",
            "Predicted steering angle (degrees): [[-0.32218727]] | Actual steering angle (degrees) = -2.52\n",
            "Predicted steering angle (degrees): [[0.88575065]] | Actual steering angle (degrees) = -35.599999999999994\n",
            "Predicted steering angle (degrees): [[-2.3006823]] | Actual steering angle (degrees) = 17.65\n",
            "Predicted steering angle (degrees): [[-8.421651]] | Actual steering angle (degrees) = 0.0\n",
            "Predicted steering angle (degrees): [[-5.159725]] | Actual steering angle (degrees) = -18.45\n",
            "Predicted steering angle (degrees): [[-4.0238733]] | Actual steering angle (degrees) = 0.0\n",
            "Predicted steering angle (degrees): [[-0.36265025]] | Actual steering angle (degrees) = -11.5\n",
            "Predicted steering angle (degrees): [[-6.241164]] | Actual steering angle (degrees) = -0.61\n",
            "Predicted steering angle (degrees): [[-8.645662]] | Actual steering angle (degrees) = 7.87\n",
            "Predicted steering angle (degrees): [[-7.0784345]] | Actual steering angle (degrees) = -18.25\n",
            "Predicted steering angle (degrees): [[-7.291349]] | Actual steering angle (degrees) = 1.11\n",
            "Predicted steering angle (degrees): [[-4.347161]] | Actual steering angle (degrees) = 4.64\n",
            "Predicted steering angle (degrees): [[-6.3768163]] | Actual steering angle (degrees) = -12.100000000000001\n",
            "Predicted steering angle (degrees): [[-9.731227]] | Actual steering angle (degrees) = 7.26\n",
            "Predicted steering angle (degrees): [[-12.536415]] | Actual steering angle (degrees) = 0.71\n",
            "Predicted steering angle (degrees): [[-11.356222]] | Actual steering angle (degrees) = 0.0\n",
            "Predicted steering angle (degrees): [[-9.628387]] | Actual steering angle (degrees) = -17.140000000000004\n",
            "Predicted steering angle (degrees): [[-9.4766035]] | Actual steering angle (degrees) = 1.6100000000000003\n",
            "Predicted steering angle (degrees): [[-7.846902]] | Actual steering angle (degrees) = 4.64\n",
            "Predicted steering angle (degrees): [[-10.356414]] | Actual steering angle (degrees) = 13.41\n",
            "Predicted steering angle (degrees): [[-8.474482]] | Actual steering angle (degrees) = 30.449999999999992\n",
            "Predicted steering angle (degrees): [[-7.680459]] | Actual steering angle (degrees) = 1.71\n",
            "Predicted steering angle (degrees): [[-5.655039]] | Actual steering angle (degrees) = -73.31\n",
            "Predicted steering angle (degrees): [[-4.288377]] | Actual steering angle (degrees) = 70.08\n",
            "Predicted steering angle (degrees): [[-4.197601]] | Actual steering angle (degrees) = 27.03\n",
            "Predicted steering angle (degrees): [[-3.5033529]] | Actual steering angle (degrees) = -0.3\n",
            "Predicted steering angle (degrees): [[-2.8481088]] | Actual steering angle (degrees) = -16.03\n",
            "Predicted steering angle (degrees): [[-2.7829676]] | Actual steering angle (degrees) = 50.62\n",
            "Predicted steering angle (degrees): [[-2.0456574]] | Actual steering angle (degrees) = 23.799999999999997\n",
            "Predicted steering angle (degrees): [[-1.4401437]] | Actual steering angle (degrees) = -19.36\n",
            "Predicted steering angle (degrees): [[-2.3925517]] | Actual steering angle (degrees) = -20.57\n",
            "Predicted steering angle (degrees): [[-2.5471056]] | Actual steering angle (degrees) = 0.0\n",
            "Predicted steering angle (degrees): [[-2.8110645]] | Actual steering angle (degrees) = -1.82\n",
            "Predicted steering angle (degrees): [[-0.01298675]] | Actual steering angle (degrees) = -21.479999999999997\n",
            "Predicted steering angle (degrees): [[0.87964576]] | Actual steering angle (degrees) = 14.62\n",
            "Predicted steering angle (degrees): [[0.8684585]] | Actual steering angle (degrees) = 13.01\n",
            "Predicted steering angle (degrees): [[3.156189]] | Actual steering angle (degrees) = 1.31\n",
            "Predicted steering angle (degrees): [[3.7775204]] | Actual steering angle (degrees) = -62.22\n",
            "Predicted steering angle (degrees): [[8.1352215]] | Actual steering angle (degrees) = 13.71\n",
            "Predicted steering angle (degrees): [[9.28]] | Actual steering angle (degrees) = 26.62\n",
            "Predicted steering angle (degrees): [[9.03849]] | Actual steering angle (degrees) = 65.85\n",
            "Predicted steering angle (degrees): [[8.924275]] | Actual steering angle (degrees) = 19.56\n",
            "Predicted steering angle (degrees): [[9.209241]] | Actual steering angle (degrees) = 195.23\n",
            "Predicted steering angle (degrees): [[9.345516]] | Actual steering angle (degrees) = 4.44\n",
            "Predicted steering angle (degrees): [[9.283447]] | Actual steering angle (degrees) = 0.1\n",
            "Predicted steering angle (degrees): [[8.906896]] | Actual steering angle (degrees) = 11.39\n",
            "Predicted steering angle (degrees): [[8.762325]] | Actual steering angle (degrees) = 0.2\n",
            "Predicted steering angle (degrees): [[8.932489]] | Actual steering angle (degrees) = -6.25\n",
            "Predicted steering angle (degrees): [[10.779033]] | Actual steering angle (degrees) = 6.659999999999999\n"
          ]
        },
        {
          "name": "stdout",
          "output_type": "stream",
          "text": [
            "Predicted steering angle (degrees): [[10.829831]] | Actual steering angle (degrees) = 0.0\n",
            "Predicted steering angle (degrees): [[11.251577]] | Actual steering angle (degrees) = 25.71\n",
            "Predicted steering angle (degrees): [[10.870388]] | Actual steering angle (degrees) = 19.46\n",
            "Predicted steering angle (degrees): [[10.08034]] | Actual steering angle (degrees) = 3.53\n",
            "Predicted steering angle (degrees): [[8.252663]] | Actual steering angle (degrees) = 1.51\n",
            "Predicted steering angle (degrees): [[5.7936254]] | Actual steering angle (degrees) = 29.450000000000003\n",
            "Predicted steering angle (degrees): [[3.9013517]] | Actual steering angle (degrees) = 53.040000000000006\n",
            "Predicted steering angle (degrees): [[3.9884856]] | Actual steering angle (degrees) = -4.64\n",
            "Predicted steering angle (degrees): [[3.9884856]] | Actual steering angle (degrees) = 15.030000000000001\n",
            "Predicted steering angle (degrees): [[3.9884856]] | Actual steering angle (degrees) = 6.150000000000001\n",
            "Predicted steering angle (degrees): [[3.9884856]] | Actual steering angle (degrees) = 6.55\n"
          ]
        }
      ],
      "source": [
        "i = len(X_train)\n",
        "length = i\n",
        "\n",
        "while(cv2.waitKey(10) != ord('q')):\n",
        "    full_image = cv2.imread(\"./driving_dataset/\" + str(i) + \".jpg\")\n",
        "    resized_frame = cv2.resize(full_image, (200,66))\n",
        "    resized_frame = resized_frame/255.0\n",
        "    resized_frame = np.expand_dims(resized_frame, axis=0)\n",
        "    pred_degrees = (model_e2e.predict(resized_frame) * 180)/pi  #to convert the radians to degrees\n",
        "    actual_degrees = y_val[i-length]*180/pi\n",
        "\n",
        "    print(\"Predicted steering angle (degrees): \" + str(pred_degrees) + \" | Actual steering angle (degrees) = \" + str(actual_degrees))\n",
        "    cv2.imshow(\"frame\", full_image)\n",
        "    #make smooth angle transitions by turning the steering wheel based on the difference of the current angle\n",
        "    #and the predicted angle\n",
        "    smoothed_angle += 0.2 * pow(abs((pred_degrees - smoothed_angle)), 2.0 / 3.0) * (pred_degrees - smoothed_angle) / abs(pred_degrees - smoothed_angle)\n",
        "    M = cv2.getRotationMatrix2D((cols/2,rows/2),float(-smoothed_angle),1)\n",
        "    dst = cv2.warpAffine(steering_img,M,(cols,rows))\n",
        "    cv2.imshow(\"steering wheel\", dst)\n",
        "    i += 1\n",
        "\n",
        "cv2.destroyAllWindows()"
      ]
    },
    {
      "cell_type": "code",
      "execution_count": null,
      "metadata": {
        "id": "fS5Uv-NyiJ6e"
      },
      "outputs": [],
      "source": []
    }
  ],
  "metadata": {
    "accelerator": "GPU",
    "colab": {
      "collapsed_sections": [],
      "machine_shape": "hm",
      "name": "03_Test_Simulation.ipynb",
      "provenance": [],
      "include_colab_link": true
    },
    "gpuClass": "standard",
    "kernelspec": {
      "display_name": "Python 3 (ipykernel)",
      "language": "python",
      "name": "python3"
    },
    "language_info": {
      "codemirror_mode": {
        "name": "ipython",
        "version": 3
      },
      "file_extension": ".py",
      "mimetype": "text/x-python",
      "name": "python",
      "nbconvert_exporter": "python",
      "pygments_lexer": "ipython3",
      "version": "3.9.7"
    }
  },
  "nbformat": 4,
  "nbformat_minor": 0
}