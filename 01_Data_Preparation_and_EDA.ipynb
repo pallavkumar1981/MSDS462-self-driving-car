{
  "cells": [
    {
      "cell_type": "markdown",
      "metadata": {
        "id": "view-in-github",
        "colab_type": "text"
      },
      "source": [
        "<a href=\"https://colab.research.google.com/github/pallavkumar1981/MSDS462-self-driving-car/blob/main/01_Data_Preparation_and_EDA.ipynb\" target=\"_parent\"><img src=\"https://colab.research.google.com/assets/colab-badge.svg\" alt=\"Open In Colab\"/></a>"
      ]
    },
    {
      "cell_type": "markdown",
      "metadata": {
        "id": "NddAsSH1NpYB"
      },
      "source": [
        "# 0. Importing libraries"
      ]
    },
    {
      "cell_type": "markdown",
      "source": [
        "# New Section"
      ],
      "metadata": {
        "id": "yK8lNf607jYQ"
      }
    },
    {
      "cell_type": "code",
      "execution_count": null,
      "metadata": {
        "id": "F5PmYasm9Bvk"
      },
      "outputs": [],
      "source": [
        "import numpy as np\n",
        "import pandas as pd\n",
        "import seaborn as sns\n",
        "import matplotlib.pyplot as plt \n",
        "%matplotlib inline\n",
        "\n",
        "import tensorflow as tf\n",
        "from tensorflow import keras\n",
        "from tensorflow.keras.models import Sequential\n",
        "from tensorflow.keras.layers import Dense, Dropout, Flatten, Normalization\n",
        "from tensorflow.keras.layers import Conv2D, MaxPooling2D\n",
        "from tensorflow.keras.optimizers import Adam\n",
        "from tensorflow.keras.callbacks import EarlyStopping, ReduceLROnPlateau, ModelCheckpoint\n",
        "import tensorflow.keras.backend as K\n",
        "\n",
        "import os\n",
        "import random\n",
        "from scipy import pi\n",
        "from datetime import datetime\n",
        "import cv2\n",
        "import pickle\n",
        "import json\n",
        "from itertools import islice\n",
        "\n",
        "from sklearn.utils import shuffle\n",
        "from sklearn.model_selection import train_test_split\n",
        "from sklearn.metrics import mean_squared_error"
      ]
    },
    {
      "cell_type": "code",
      "execution_count": null,
      "metadata": {
        "id": "idpHp8ackl49",
        "outputId": "5dcfc434-760c-4750-8186-f58759d4970d"
      },
      "outputs": [
        {
          "data": {
            "text/plain": [
              "'4.5.4'"
            ]
          },
          "execution_count": 2,
          "metadata": {},
          "output_type": "execute_result"
        }
      ],
      "source": [
        "cv2.__version__"
      ]
    },
    {
      "cell_type": "code",
      "execution_count": null,
      "metadata": {
        "id": "hqSfP2DTSGPr"
      },
      "outputs": [],
      "source": [
        "SPLIT = 0.9"
      ]
    },
    {
      "cell_type": "markdown",
      "metadata": {
        "id": "ar42vkUtQqFR"
      },
      "source": [
        "# 1. [OPTIONAL] Read the data/images and save them as as pickle file "
      ]
    },
    {
      "cell_type": "code",
      "execution_count": null,
      "metadata": {
        "id": "N5q9YRU0R-pO"
      },
      "outputs": [],
      "source": [
        "DATA_FOLDER = './driving_dataset/'\n",
        "METADATA_FILE = os.path.join(DATA_FOLDER, 'data.txt')"
      ]
    },
    {
      "cell_type": "code",
      "execution_count": null,
      "metadata": {
        "id": "HdK3rGaPR-lq",
        "outputId": "43beaff2-fe91-4bb0-cc7c-dd7b577bef0a"
      },
      "outputs": [
        {
          "name": "stdout",
          "output_type": "stream",
          "text": [
            "Finished processing\n",
            "Wall time: 179 ms\n"
          ]
        }
      ],
      "source": [
        "%%time\n",
        "#reading the data set from data.txt\n",
        "X = []\n",
        "labels = []\n",
        "\n",
        "#islice(text, start, stop, LIMIT) --> ('ABCDEF', 2, None) --> 'C D E F'  -->https://docs.python.org/2/library/itertools.html\n",
        "with open(METADATA_FILE) as f:\n",
        "    for line in islice(f, None):\n",
        "        path, angle = line.strip().split()\n",
        "        full_path = os.path.join(DATA_FOLDER, path)\n",
        "        X.append(full_path)\n",
        "        labels.append(float(angle)*pi/180)\n",
        "\n",
        "labels = np.array(labels)\n",
        "print('Finished processing')"
      ]
    },
    {
      "cell_type": "code",
      "execution_count": null,
      "metadata": {
        "id": "VsolJx2Mkl5J",
        "outputId": "20161367-45c0-4a25-9a26-0886406dfe53"
      },
      "outputs": [
        {
          "data": {
            "text/plain": [
              "45406"
            ]
          },
          "execution_count": 6,
          "metadata": {},
          "output_type": "execute_result"
        }
      ],
      "source": [
        "len(labels)"
      ]
    },
    {
      "cell_type": "markdown",
      "metadata": {
        "id": "8obEFsdfV4G_"
      },
      "source": [
        "*   Original_size of the image: (256, 455, 3)\n",
        "*   After taking the last 150 rows i.e lower part of the images where road is present,  (150, 455, 3)\n",
        "*   Shape after resizing it: (66, 200, 3)\n",
        "\n",
        "Doing it for all images..."
      ]
    },
    {
      "cell_type": "code",
      "execution_count": null,
      "metadata": {
        "id": "78b4zTdiR-i4",
        "outputId": "5d469c91-8906-412a-c101-c8e407e7b891"
      },
      "outputs": [
        {
          "name": "stdout",
          "output_type": "stream",
          "text": [
            "Wall time: 2min 30s\n"
          ]
        }
      ],
      "source": [
        "%%time\n",
        "features = []\n",
        "for i in X:\n",
        "    img = cv2.imread(i)\n",
        "    img = img[-150:]\n",
        "    resized_img = cv2.resize(img, (200,66))\n",
        "    features.append(resized_img)"
      ]
    },
    {
      "cell_type": "code",
      "execution_count": null,
      "metadata": {
        "id": "90-uoScUR-gB",
        "outputId": "e9385313-976e-4aac-e817-600fb443a2f9"
      },
      "outputs": [
        {
          "name": "stdout",
          "output_type": "stream",
          "text": [
            "Wall time: 3.4 s\n"
          ]
        }
      ],
      "source": [
        "%%time\n",
        "features = np.array(features)"
      ]
    },
    {
      "cell_type": "code",
      "execution_count": null,
      "metadata": {
        "id": "OZOz9ZZOR-db"
      },
      "outputs": [],
      "source": [
        "with open('./pickle/features.pkl', 'wb') as f:\n",
        "    pickle.dump(features, f)\n",
        "with open('./pickle/labels.pkl', 'wb') as f:\n",
        "    pickle.dump(labels, f)"
      ]
    },
    {
      "cell_type": "code",
      "execution_count": null,
      "metadata": {
        "id": "8FUvu0meR-a4"
      },
      "outputs": [],
      "source": []
    },
    {
      "cell_type": "markdown",
      "metadata": {
        "id": "RMpVNk29Ns2u"
      },
      "source": [
        "# 2. Loading the processed data (from pickle file)"
      ]
    },
    {
      "cell_type": "code",
      "execution_count": null,
      "metadata": {
        "id": "toYPUS9n8_nJ"
      },
      "outputs": [],
      "source": [
        "def loadFromPickle():\n",
        "    with open(\"./pickle/features.pkl\", \"rb\") as f:\n",
        "        features = np.array(pickle.load(f))\n",
        "    with open(\"./pickle/labels.pkl\", \"rb\") as f:\n",
        "        labels = np.array(pickle.load(f))\n",
        "    return features, labels"
      ]
    },
    {
      "cell_type": "code",
      "execution_count": null,
      "metadata": {
        "id": "L89cPMTpkl5V",
        "outputId": "cf230bb9-4358-4697-9895-b8e71219343a"
      },
      "outputs": [
        {
          "name": "stdout",
          "output_type": "stream",
          "text": [
            "Wall time: 2.03 s\n"
          ]
        }
      ],
      "source": [
        "%%time\n",
        "features, labels = loadFromPickle()"
      ]
    },
    {
      "cell_type": "code",
      "execution_count": null,
      "metadata": {
        "colab": {
          "base_uri": "https://localhost:8080/",
          "height": 36
        },
        "id": "WmmY5LgjvKJJ",
        "outputId": "98523742-9200-4272-9c20-aea6641fe5d6"
      },
      "outputs": [
        {
          "name": "stdout",
          "output_type": "stream",
          "text": [
            "Wall time: 722 ms\n"
          ]
        }
      ],
      "source": [
        "%%time\n",
        "features, labels = shuffle(features, labels)"
      ]
    },
    {
      "cell_type": "code",
      "execution_count": null,
      "metadata": {
        "id": "Pnxgfp5Okl5Y"
      },
      "outputs": [],
      "source": [
        "X_train, X_val, y_train, y_val = train_test_split(features, labels, random_state=0,test_size=(1-SPLIT))"
      ]
    },
    {
      "cell_type": "code",
      "execution_count": null,
      "metadata": {
        "colab": {
          "base_uri": "https://localhost:8080/"
        },
        "id": "RagUJuH7UDqi",
        "outputId": "2ab39754-042e-4386-8047-f52b0771632e"
      },
      "outputs": [
        {
          "name": "stdout",
          "output_type": "stream",
          "text": [
            "(40865, 66, 200, 3)\n",
            "(4541, 66, 200, 3)\n",
            "(40865,)\n",
            "(4541,)\n"
          ]
        }
      ],
      "source": [
        "print(X_train.shape)\n",
        "print(X_val.shape)\n",
        "print(y_train.shape)\n",
        "print(y_val.shape)"
      ]
    },
    {
      "cell_type": "code",
      "execution_count": null,
      "metadata": {
        "id": "QxRLni1fUQij"
      },
      "outputs": [],
      "source": []
    },
    {
      "cell_type": "markdown",
      "metadata": {
        "id": "v5XlZyHVUXnz"
      },
      "source": [
        "# 3. EDA"
      ]
    },
    {
      "cell_type": "code",
      "execution_count": null,
      "metadata": {
        "colab": {
          "base_uri": "https://localhost:8080/",
          "height": 586
        },
        "id": "XQs9w1TcUQf1",
        "outputId": "2e31c6c1-049d-48dd-d12c-9753ca9bb071"
      },
      "outputs": [
        {
          "name": "stderr",
          "output_type": "stream",
          "text": [
            "C:\\Users\\palla\\anaconda3\\lib\\site-packages\\seaborn\\distributions.py:2619: FutureWarning: `distplot` is a deprecated function and will be removed in a future version. Please adapt your code to use either `displot` (a figure-level function with similar flexibility) or `kdeplot` (an axes-level function for kernel density plots).\n",
            "  warnings.warn(msg, FutureWarning)\n",
            "C:\\Users\\palla\\anaconda3\\lib\\site-packages\\seaborn\\distributions.py:2619: FutureWarning: `distplot` is a deprecated function and will be removed in a future version. Please adapt your code to use either `displot` (a figure-level function with similar flexibility) or `kdeplot` (an axes-level function for kernel density plots).\n",
            "  warnings.warn(msg, FutureWarning)\n"
          ]
        },
        {
          "data": {
            "image/png": "[encoded data removed]",
            "text/plain": [
              "<Figure size 1440x576 with 1 Axes>"
            ]
          },
          "metadata": {
            "needs_background": "light"
          },
          "output_type": "display_data"
        }
      ],
      "source": [
        "#distribution of train and test y\n",
        "plt.figure(figsize=(20,8))\n",
        "sns.distplot(y_train, hist=False, label='train_y')\n",
        "sns.distplot(y_val, hist=False, label='test_y')\n",
        "plt.xlabel(' Steering angle')\n",
        "plt.ylabel('Probability distribution')\n",
        "plt.legend()\n",
        "plt.show()"
      ]
    },
    {
      "cell_type": "code",
      "execution_count": null,
      "metadata": {
        "colab": {
          "base_uri": "https://localhost:8080/"
        },
        "id": "pvfEdAkRUQdI",
        "outputId": "16fd625b-806f-496d-d922-70876d35c420"
      },
      "outputs": [
        {
          "name": "stdout",
          "output_type": "stream",
          "text": [
            "Test_MSE(MEAN):0.275442\n",
            "Test_MSE(ZERO):0.276331\n"
          ]
        }
      ],
      "source": [
        "#Model 0: Base line Model: y_test_pred = mean(y_train_i) \n",
        "train_mean_y = np.mean(y_train)\n",
        "\n",
        "print('Test_MSE(MEAN):%f' % np.mean(np.square(y_val-train_mean_y)) )\n",
        "print('Test_MSE(ZERO):%f' % np.mean(np.square(y_val-0.0)) )"
      ]
    },
    {
      "cell_type": "markdown",
      "metadata": {
        "id": "BnNIGkDykl5g"
      },
      "source": [
        "**Note:**\n",
        "\n",
        "These are MSE for our base models\n",
        "\n"
      ]
    },
    {
      "cell_type": "code",
      "execution_count": null,
      "metadata": {
        "id": "pf_1bxVHUQab"
      },
      "outputs": [],
      "source": []
    },
    {
      "cell_type": "markdown",
      "metadata": {
        "id": "ROlRVpeoUoWK"
      },
      "source": [
        "# 4. Preparing data for model"
      ]
    },
    {
      "cell_type": "code",
      "execution_count": null,
      "metadata": {
        "id": "iyVSHjv7UyBj"
      },
      "outputs": [],
      "source": [
        "X_train = X_train/255.0\n",
        "X_val = X_val/255.0"
      ]
    },
    {
      "cell_type": "code",
      "execution_count": null,
      "metadata": {
        "id": "J6FBkndVkl5i"
      },
      "outputs": [],
      "source": [
        "with open('./pickle/X_train.pkl', 'wb') as f:\n",
        "    pickle.dump(X_train, f)\n",
        "with open('./pickle/X_val.pkl', 'wb') as f:\n",
        "    pickle.dump(X_val, f)\n",
        "with open('./pickle/y_train.pkl', 'wb') as f:\n",
        "    pickle.dump(y_train, f)\n",
        "with open('./pickle/y_val.pkl', 'wb') as f:\n",
        "    pickle.dump(y_val, f)"
      ]
    },
    {
      "cell_type": "code",
      "execution_count": null,
      "metadata": {
        "colab": {
          "base_uri": "https://localhost:8080/"
        },
        "id": "6ZKVE4jPUx-0",
        "outputId": "e2a5dd27-ef3d-4a03-b532-49e6c18135cc"
      },
      "outputs": [
        {
          "name": "stdout",
          "output_type": "stream",
          "text": [
            "(40865, 66, 200, 3)\n",
            "(4541, 66, 200, 3)\n",
            "(66, 200, 3)\n"
          ]
        }
      ],
      "source": [
        "print(X_train.shape)\n",
        "print(X_val.shape)\n",
        "print(img_size)"
      ]
    },
    {
      "cell_type": "markdown",
      "metadata": {
        "id": "jOABjwP5kl5j"
      },
      "source": [
        "**So, here we have read the images, processed the data and stored the training and validation variables as pickle files. Also, we have evaluated MSE for our base model**"
      ]
    },
    {
      "cell_type": "code",
      "execution_count": null,
      "metadata": {
        "id": "0z8UrEpkO94d"
      },
      "outputs": [],
      "source": []
    },
    {
      "cell_type": "code",
      "execution_count": null,
      "metadata": {
        "id": "Od2JfTWsO91j"
      },
      "outputs": [],
      "source": []
    }
  ],
  "metadata": {
    "accelerator": "GPU",
    "colab": {
      "collapsed_sections": [],
      "machine_shape": "hm",
      "name": "01_Data_Preparation_and_EDA.ipynb",
      "provenance": [],
      "toc_visible": true,
      "include_colab_link": true
    },
    "gpuClass": "standard",
    "kernelspec": {
      "display_name": "Python 3 (ipykernel)",
      "language": "python",
      "name": "python3"
    },
    "language_info": {
      "codemirror_mode": {
        "name": "ipython",
        "version": 3
      },
      "file_extension": ".py",
      "mimetype": "text/x-python",
      "name": "python",
      "nbconvert_exporter": "python",
      "pygments_lexer": "ipython3",
      "version": "3.9.7"
    }
  },
  "nbformat": 4,
  "nbformat_minor": 0
}