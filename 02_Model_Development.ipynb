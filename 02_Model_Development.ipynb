{
  "cells": [
    {
      "cell_type": "markdown",
      "metadata": {
        "id": "view-in-github",
        "colab_type": "text"
      },
      "source": [
        "<a href=\"https://colab.research.google.com/github/pallavkumar1981/MSDS462-self-driving-car/blob/main/02_Model_Development.ipynb\" target=\"_parent\"><img src=\"https://colab.research.google.com/assets/colab-badge.svg\" alt=\"Open In Colab\"/></a>"
      ]
    },
    {
      "cell_type": "markdown",
      "source": [
        "# Instructions\n",
        "\n",
        "* Run this notebook preferably on Google Colab so as to leverage additional RAM and GPU\n",
        "* Key considerations:\n",
        "    - Correct the paths below for the pickle files stored on your google drives. This is load the feature and label data for training and validation sets.\n",
        "    - Keep track of the models getting stored. Store them on google drive and later download the best performing (E2E learning) model for simulation. Simulation will be run on local jupyter notebook\n"
      ],
      "metadata": {
        "id": "HjnjSnj-_6KW"
      }
    },
    {
      "cell_type": "markdown",
      "metadata": {
        "id": "tMZPAyR-7uaJ"
      },
      "source": [
        "# 0. Mounting to google drive\n",
        "\n"
      ]
    },
    {
      "cell_type": "code",
      "execution_count": null,
      "metadata": {
        "colab": {
          "base_uri": "https://localhost:8080/"
        },
        "id": "MQimLkz77yfN",
        "outputId": "76167a95-9b3e-4e0b-e9a1-0b4a688e2cca"
      },
      "outputs": [
        {
          "name": "stdout",
          "output_type": "stream",
          "text": [
            "Drive already mounted at /content/drive; to attempt to forcibly remount, call drive.mount(\"/content/drive\", force_remount=True).\n"
          ]
        }
      ],
      "source": [
        "from google.colab import drive\n",
        "drive.mount('/content/drive')"
      ]
    },
    {
      "cell_type": "markdown",
      "metadata": {
        "id": "NddAsSH1NpYB"
      },
      "source": [
        "# 0. Importing libraries"
      ]
    },
    {
      "cell_type": "code",
      "execution_count": null,
      "metadata": {
        "id": "F5PmYasm9Bvk"
      },
      "outputs": [],
      "source": [
        "import numpy as np\n",
        "import pandas as pd\n",
        "import seaborn as sns\n",
        "import matplotlib.pyplot as plt \n",
        "%matplotlib inline\n",
        "\n",
        "import tensorflow as tf\n",
        "from tensorflow import keras\n",
        "from tensorflow.keras.models import Sequential\n",
        "from tensorflow.keras.layers import Dense, Dropout, Flatten, Normalization\n",
        "from tensorflow.keras.layers import Conv2D, MaxPooling2D\n",
        "from tensorflow.keras.optimizers import Adam\n",
        "from tensorflow.keras.callbacks import EarlyStopping, ReduceLROnPlateau, ModelCheckpoint\n",
        "import tensorflow.keras.backend as K\n",
        "\n",
        "import os\n",
        "import random\n",
        "from scipy import pi\n",
        "from datetime import datetime\n",
        "import cv2\n",
        "import pickle\n",
        "import json\n",
        "from itertools import islice\n",
        "\n",
        "from sklearn.utils import shuffle\n",
        "from sklearn.model_selection import train_test_split\n",
        "from sklearn.metrics import mean_squared_error"
      ]
    },
    {
      "cell_type": "code",
      "execution_count": null,
      "metadata": {
        "id": "m97szHIvsjfF",
        "outputId": "bd73df9e-5493-4f19-efe6-361b25316c4e"
      },
      "outputs": [
        {
          "data": {
            "text/plain": [
              "'4.5.4'"
            ]
          },
          "execution_count": 2,
          "metadata": {},
          "output_type": "execute_result"
        }
      ],
      "source": [
        "cv2.__version__"
      ]
    },
    {
      "cell_type": "code",
      "execution_count": null,
      "metadata": {
        "id": "hqSfP2DTSGPr"
      },
      "outputs": [],
      "source": [
        "SPLIT = 0.9"
      ]
    },
    {
      "cell_type": "code",
      "execution_count": null,
      "metadata": {
        "id": "pf_1bxVHUQab"
      },
      "outputs": [],
      "source": []
    },
    {
      "cell_type": "markdown",
      "metadata": {
        "id": "j4EPr-u4wuCQ"
      },
      "source": [
        "# 1. Loading prepared data (train and validation) for model development"
      ]
    },
    {
      "cell_type": "code",
      "execution_count": null,
      "metadata": {
        "id": "R__JtR-7sjfP"
      },
      "outputs": [],
      "source": [
        "def loadPreparedDataFromPickle():\n",
        "    with open('./pickle/X_train.pkl', 'rb') as f:\n",
        "        Xtrain = np.array(pickle.load(f))\n",
        "    with open('./pickle/y_train.pkl', 'rb') as f:\n",
        "        ytrain = np.array(pickle.load(f))\n",
        "    with open('./pickle/X_val.pkl', 'rb') as f:\n",
        "        Xval = np.array(pickle.load(f))\n",
        "    with open('./pickle/y_val.pkl', 'rb') as f:\n",
        "        yval = np.array(pickle.load(f))\n",
        "    return Xtrain, ytrain, Xval, yval"
      ]
    },
    {
      "cell_type": "code",
      "execution_count": null,
      "metadata": {
        "colab": {
          "base_uri": "https://localhost:8080/"
        },
        "id": "dpMNFv5nsjfP",
        "outputId": "5e0c64d8-b5cd-4972-9e2c-794279f9a0d2"
      },
      "outputs": [
        {
          "name": "stdout",
          "output_type": "stream",
          "text": [
            "Wall time: 31.6 s\n"
          ]
        }
      ],
      "source": [
        "%%time\n",
        "X_train, y_train, X_val, y_val = loadPreparedDataFromPickle()"
      ]
    },
    {
      "cell_type": "code",
      "execution_count": null,
      "metadata": {
        "id": "OZrhM1FjByIg"
      },
      "outputs": [],
      "source": []
    },
    {
      "cell_type": "markdown",
      "metadata": {
        "id": "zwfrxHD1NyDW"
      },
      "source": [
        "# 2. Model development"
      ]
    },
    {
      "cell_type": "markdown",
      "metadata": {
        "id": "atsflSmVN0hN"
      },
      "source": [
        "## 2.1 End-to-end learning (Nvidia architecture)"
      ]
    },
    {
      "cell_type": "code",
      "execution_count": null,
      "metadata": {
        "id": "SVrEVcHYsjfS"
      },
      "outputs": [],
      "source": [
        "checkpoint_file_name = './models/self_drive_model_E2E_v1.hdf5'"
      ]
    },
    {
      "cell_type": "code",
      "execution_count": null,
      "metadata": {
        "id": "kxtajXfnXiUs"
      },
      "outputs": [],
      "source": [
        "def custom_activation(x):\n",
        "    return tf.multiply(tf.math.atan(x), 2) #  arctan range is [-pi/2, pi/2]. so we have to get the angle between [-pi, pi] so we are multiplying by 2"
      ]
    },
    {
      "cell_type": "code",
      "execution_count": null,
      "metadata": {
        "id": "3Lntnm248_TE"
      },
      "outputs": [],
      "source": [
        "#to refer the model architecture: https://developer.nvidia.com/blog/deep-learning-self-driving-cars/\n",
        "#to use atan as a activation function refer: https://www.tensorflow.org/api_docs/python/tf/math/atan\n",
        "\n",
        "img_input = tf.keras.Input(img_size)\n",
        "x = tf.keras.layers.Conv2D(filters=24, kernel_size=(5,5), strides=(2,2), padding='valid', name='conv-1')(img_input)\n",
        "x = tf.keras.layers.Conv2D(filters=36, kernel_size=(5,5), strides=(2,2), padding='valid', name='conv-2')(x)\n",
        "x = tf.keras.layers.Conv2D(filters=48, kernel_size=(5,5), strides=(2,2), padding='valid', name='conv-3')(x)\n",
        "x = tf.keras.layers.Conv2D(filters=64, kernel_size=(3,3), strides=(1,1), padding='valid', name='conv-4')(x)\n",
        "x = tf.keras.layers.Conv2D(filters=64, kernel_size=(3,3), strides=(1,1), padding='valid', name='conv-5')(x)\n",
        "x = tf.keras.layers.Flatten(name='flatten')(x)\n",
        "x = tf.keras.layers.Dense(1164, activation='relu', name='dense_layer-1')(x)\n",
        "x = tf.keras.layers.Dropout(0.2, name='dropout-1')(x)\n",
        "x = tf.keras.layers.Dense(100, activation='relu', name='dense_layer-2')(x)\n",
        "x = tf.keras.layers.Dropout(0.2, name='dropout-2')(x)\n",
        "x = tf.keras.layers.Dense(50, activation='relu', name='dense_layer-3')(x)\n",
        "x = tf.keras.layers.Dropout(0.2, name='dropout-3')(x)\n",
        "x = tf.keras.layers.Dense(10, activation='relu', name='dense_layer-4')(x)\n",
        "x = tf.keras.layers.Dropout(0.2, name='dropout-4')(x)\n",
        "output = tf.keras.layers.Dense(1, activation=custom_activation, name='output')(x) #note we have used atan to use tan inverse activation\n",
        "\n",
        "model_e2e = tf.keras.models.Model(inputs=img_input, outputs=output, name='model-1')"
      ]
    },
    {
      "cell_type": "code",
      "execution_count": null,
      "metadata": {
        "colab": {
          "base_uri": "https://localhost:8080/"
        },
        "id": "-p46DvAtXswo",
        "outputId": "a1dd1ad9-f7d0-491d-b870-4583f956875c"
      },
      "outputs": [
        {
          "name": "stdout",
          "output_type": "stream",
          "text": [
            "Model: \"model-1\"\n",
            "_________________________________________________________________\n",
            " Layer (type)                Output Shape              Param #   \n",
            "=================================================================\n",
            " input_1 (InputLayer)        [(None, 66, 200, 3)]      0         \n",
            "                                                                 \n",
            " conv-1 (Conv2D)             (None, 31, 98, 24)        1824      \n",
            "                                                                 \n",
            " conv-2 (Conv2D)             (None, 14, 47, 36)        21636     \n",
            "                                                                 \n",
            " conv-3 (Conv2D)             (None, 5, 22, 48)         43248     \n",
            "                                                                 \n",
            " conv-4 (Conv2D)             (None, 3, 20, 64)         27712     \n",
            "                                                                 \n",
            " conv-5 (Conv2D)             (None, 1, 18, 64)         36928     \n",
            "                                                                 \n",
            " flatten (Flatten)           (None, 1152)              0         \n",
            "                                                                 \n",
            " dense_layer-1 (Dense)       (None, 1164)              1342092   \n",
            "                                                                 \n",
            " dropout-1 (Dropout)         (None, 1164)              0         \n",
            "                                                                 \n",
            " dense_layer-2 (Dense)       (None, 100)               116500    \n",
            "                                                                 \n",
            " dropout-2 (Dropout)         (None, 100)               0         \n",
            "                                                                 \n",
            " dense_layer-3 (Dense)       (None, 50)                5050      \n",
            "                                                                 \n",
            " dropout-3 (Dropout)         (None, 50)                0         \n",
            "                                                                 \n",
            " dense_layer-4 (Dense)       (None, 10)                510       \n",
            "                                                                 \n",
            " dropout-4 (Dropout)         (None, 10)                0         \n",
            "                                                                 \n",
            " output (Dense)              (None, 1)                 11        \n",
            "                                                                 \n",
            "=================================================================\n",
            "Total params: 1,595,511\n",
            "Trainable params: 1,595,511\n",
            "Non-trainable params: 0\n",
            "_________________________________________________________________\n"
          ]
        }
      ],
      "source": [
        "model_e2e.summary()"
      ]
    },
    {
      "cell_type": "code",
      "execution_count": null,
      "metadata": {
        "id": "CYvVaSqhXwPd"
      },
      "outputs": [],
      "source": [
        "model_e2e.compile(optimizer=tf.keras.optimizers.Adam(learning_rate=0.0001), loss='mean_squared_error')"
      ]
    },
    {
      "cell_type": "code",
      "execution_count": null,
      "metadata": {
        "id": "m7jC5uklXwL-"
      },
      "outputs": [],
      "source": [
        "BATCH_SIZE = 100\n",
        "NBR_EPOCHS = 30"
      ]
    },
    {
      "cell_type": "code",
      "execution_count": null,
      "metadata": {
        "id": "Yav11bX6X-B5"
      },
      "outputs": [],
      "source": [
        "model_checkpoint = ModelCheckpoint(checkpoint_file_name, monitor='val_loss', verbose=1, save_best_only=True)\n",
        "callbacks_list = [model_checkpoint]"
      ]
    },
    {
      "cell_type": "code",
      "execution_count": null,
      "metadata": {
        "colab": {
          "base_uri": "https://localhost:8080/"
        },
        "id": "OShzikHMX9-j",
        "outputId": "2deff83e-42bc-436e-c568-e8d1d5a1d85a"
      },
      "outputs": [
        {
          "name": "stdout",
          "output_type": "stream",
          "text": [
            "Epoch 1/30\n",
            "\n",
            "Epoch 1: val_loss improved from inf to 0.20810, saving model to ./drive/MyDrive/Colab_Notebooks/MSDS462-Computer_Vision-Final_Project/models/self_drive_model_E2E_v1.hdf5\n",
            "409/409 - 29s - loss: 0.2754 - val_loss: 0.2081 - 29s/epoch - 70ms/step\n",
            "Epoch 2/30\n",
            "\n",
            "Epoch 2: val_loss improved from 0.20810 to 0.13767, saving model to ./drive/MyDrive/Colab_Notebooks/MSDS462-Computer_Vision-Final_Project/models/self_drive_model_E2E_v1.hdf5\n",
            "409/409 - 9s - loss: 0.2007 - val_loss: 0.1377 - 9s/epoch - 21ms/step\n",
            "Epoch 3/30\n",
            "\n",
            "Epoch 3: val_loss improved from 0.13767 to 0.10264, saving model to ./drive/MyDrive/Colab_Notebooks/MSDS462-Computer_Vision-Final_Project/models/self_drive_model_E2E_v1.hdf5\n",
            "409/409 - 9s - loss: 0.1478 - val_loss: 0.1026 - 9s/epoch - 21ms/step\n",
            "Epoch 4/30\n",
            "\n",
            "Epoch 4: val_loss improved from 0.10264 to 0.06697, saving model to ./drive/MyDrive/Colab_Notebooks/MSDS462-Computer_Vision-Final_Project/models/self_drive_model_E2E_v1.hdf5\n",
            "409/409 - 8s - loss: 0.1094 - val_loss: 0.0670 - 8s/epoch - 20ms/step\n",
            "Epoch 5/30\n",
            "\n",
            "Epoch 5: val_loss improved from 0.06697 to 0.05024, saving model to ./drive/MyDrive/Colab_Notebooks/MSDS462-Computer_Vision-Final_Project/models/self_drive_model_E2E_v1.hdf5\n",
            "409/409 - 8s - loss: 0.0881 - val_loss: 0.0502 - 8s/epoch - 20ms/step\n",
            "Epoch 6/30\n",
            "\n",
            "Epoch 6: val_loss improved from 0.05024 to 0.04119, saving model to ./drive/MyDrive/Colab_Notebooks/MSDS462-Computer_Vision-Final_Project/models/self_drive_model_E2E_v1.hdf5\n",
            "409/409 - 8s - loss: 0.0776 - val_loss: 0.0412 - 8s/epoch - 20ms/step\n",
            "Epoch 7/30\n",
            "\n",
            "Epoch 7: val_loss improved from 0.04119 to 0.03636, saving model to ./drive/MyDrive/Colab_Notebooks/MSDS462-Computer_Vision-Final_Project/models/self_drive_model_E2E_v1.hdf5\n",
            "409/409 - 8s - loss: 0.0673 - val_loss: 0.0364 - 8s/epoch - 20ms/step\n",
            "Epoch 8/30\n",
            "\n",
            "Epoch 8: val_loss did not improve from 0.03636\n",
            "409/409 - 8s - loss: 0.0632 - val_loss: 0.0468 - 8s/epoch - 19ms/step\n",
            "Epoch 9/30\n",
            "\n",
            "Epoch 9: val_loss improved from 0.03636 to 0.03579, saving model to ./drive/MyDrive/Colab_Notebooks/MSDS462-Computer_Vision-Final_Project/models/self_drive_model_E2E_v1.hdf5\n",
            "409/409 - 8s - loss: 0.0627 - val_loss: 0.0358 - 8s/epoch - 20ms/step\n",
            "Epoch 10/30\n",
            "\n",
            "Epoch 10: val_loss did not improve from 0.03579\n",
            "409/409 - 8s - loss: 0.0549 - val_loss: 0.0358 - 8s/epoch - 19ms/step\n",
            "Epoch 11/30\n",
            "\n",
            "Epoch 11: val_loss improved from 0.03579 to 0.02957, saving model to ./drive/MyDrive/Colab_Notebooks/MSDS462-Computer_Vision-Final_Project/models/self_drive_model_E2E_v1.hdf5\n",
            "409/409 - 8s - loss: 0.0519 - val_loss: 0.0296 - 8s/epoch - 20ms/step\n",
            "Epoch 12/30\n",
            "\n",
            "Epoch 12: val_loss improved from 0.02957 to 0.02673, saving model to ./drive/MyDrive/Colab_Notebooks/MSDS462-Computer_Vision-Final_Project/models/self_drive_model_E2E_v1.hdf5\n",
            "409/409 - 8s - loss: 0.0503 - val_loss: 0.0267 - 8s/epoch - 19ms/step\n",
            "Epoch 13/30\n",
            "\n",
            "Epoch 13: val_loss did not improve from 0.02673\n",
            "409/409 - 8s - loss: 0.0484 - val_loss: 0.0270 - 8s/epoch - 19ms/step\n",
            "Epoch 14/30\n",
            "\n",
            "Epoch 14: val_loss improved from 0.02673 to 0.02641, saving model to ./drive/MyDrive/Colab_Notebooks/MSDS462-Computer_Vision-Final_Project/models/self_drive_model_E2E_v1.hdf5\n",
            "409/409 - 8s - loss: 0.0480 - val_loss: 0.0264 - 8s/epoch - 20ms/step\n",
            "Epoch 15/30\n",
            "\n",
            "Epoch 15: val_loss improved from 0.02641 to 0.02444, saving model to ./drive/MyDrive/Colab_Notebooks/MSDS462-Computer_Vision-Final_Project/models/self_drive_model_E2E_v1.hdf5\n",
            "409/409 - 8s - loss: 0.0455 - val_loss: 0.0244 - 8s/epoch - 19ms/step\n",
            "Epoch 16/30\n",
            "\n",
            "Epoch 16: val_loss did not improve from 0.02444\n",
            "409/409 - 8s - loss: 0.0441 - val_loss: 0.0269 - 8s/epoch - 19ms/step\n",
            "Epoch 17/30\n",
            "\n",
            "Epoch 17: val_loss improved from 0.02444 to 0.02279, saving model to ./drive/MyDrive/Colab_Notebooks/MSDS462-Computer_Vision-Final_Project/models/self_drive_model_E2E_v1.hdf5\n",
            "409/409 - 8s - loss: 0.0449 - val_loss: 0.0228 - 8s/epoch - 21ms/step\n",
            "Epoch 18/30\n",
            "\n",
            "Epoch 18: val_loss did not improve from 0.02279\n",
            "409/409 - 8s - loss: 0.0422 - val_loss: 0.0240 - 8s/epoch - 19ms/step\n",
            "Epoch 19/30\n",
            "\n",
            "Epoch 19: val_loss did not improve from 0.02279\n",
            "409/409 - 8s - loss: 0.0443 - val_loss: 0.0234 - 8s/epoch - 19ms/step\n",
            "Epoch 20/30\n",
            "\n",
            "Epoch 20: val_loss improved from 0.02279 to 0.02275, saving model to ./drive/MyDrive/Colab_Notebooks/MSDS462-Computer_Vision-Final_Project/models/self_drive_model_E2E_v1.hdf5\n",
            "409/409 - 8s - loss: 0.0408 - val_loss: 0.0228 - 8s/epoch - 21ms/step\n",
            "Epoch 21/30\n",
            "\n",
            "Epoch 21: val_loss improved from 0.02275 to 0.02252, saving model to ./drive/MyDrive/Colab_Notebooks/MSDS462-Computer_Vision-Final_Project/models/self_drive_model_E2E_v1.hdf5\n",
            "409/409 - 8s - loss: 0.0398 - val_loss: 0.0225 - 8s/epoch - 19ms/step\n",
            "Epoch 22/30\n",
            "\n",
            "Epoch 22: val_loss did not improve from 0.02252\n",
            "409/409 - 8s - loss: 0.0442 - val_loss: 0.0526 - 8s/epoch - 19ms/step\n",
            "Epoch 23/30\n",
            "\n",
            "Epoch 23: val_loss improved from 0.02252 to 0.02198, saving model to ./drive/MyDrive/Colab_Notebooks/MSDS462-Computer_Vision-Final_Project/models/self_drive_model_E2E_v1.hdf5\n",
            "409/409 - 8s - loss: 0.0421 - val_loss: 0.0220 - 8s/epoch - 20ms/step\n",
            "Epoch 24/30\n",
            "\n",
            "Epoch 24: val_loss did not improve from 0.02198\n",
            "409/409 - 8s - loss: 0.0446 - val_loss: 0.0259 - 8s/epoch - 19ms/step\n",
            "Epoch 25/30\n",
            "\n",
            "Epoch 25: val_loss did not improve from 0.02198\n",
            "409/409 - 8s - loss: 0.0391 - val_loss: 0.0227 - 8s/epoch - 19ms/step\n",
            "Epoch 26/30\n",
            "\n",
            "Epoch 26: val_loss did not improve from 0.02198\n",
            "409/409 - 8s - loss: 0.0378 - val_loss: 0.0232 - 8s/epoch - 19ms/step\n",
            "Epoch 27/30\n",
            "\n",
            "Epoch 27: val_loss improved from 0.02198 to 0.02007, saving model to ./drive/MyDrive/Colab_Notebooks/MSDS462-Computer_Vision-Final_Project/models/self_drive_model_E2E_v1.hdf5\n",
            "409/409 - 8s - loss: 0.0369 - val_loss: 0.0201 - 8s/epoch - 21ms/step\n",
            "Epoch 28/30\n",
            "\n",
            "Epoch 28: val_loss did not improve from 0.02007\n",
            "409/409 - 8s - loss: 0.0365 - val_loss: 0.0205 - 8s/epoch - 19ms/step\n",
            "Epoch 29/30\n",
            "\n",
            "Epoch 29: val_loss improved from 0.02007 to 0.01957, saving model to ./drive/MyDrive/Colab_Notebooks/MSDS462-Computer_Vision-Final_Project/models/self_drive_model_E2E_v1.hdf5\n",
            "409/409 - 8s - loss: 0.0359 - val_loss: 0.0196 - 8s/epoch - 20ms/step\n",
            "Epoch 30/30\n",
            "\n",
            "Epoch 30: val_loss did not improve from 0.01957\n",
            "409/409 - 8s - loss: 0.0364 - val_loss: 0.0209 - 8s/epoch - 19ms/step\n",
            "CPU times: user 4min 45s, sys: 1min 20s, total: 6min 5s\n",
            "Wall time: 4min 28s\n"
          ]
        }
      ],
      "source": [
        "%%time\n",
        "history = model_e2e.fit(X_train, y_train, batch_size=BATCH_SIZE, epochs=NBR_EPOCHS, \n",
        "                      validation_data=(X_val, y_val), callbacks=callbacks_list, verbose=2)\n",
        "model_e2e.save(checkpoint_file_name)"
      ]
    },
    {
      "cell_type": "markdown",
      "metadata": {
        "id": "oh9jNYxgZE4E"
      },
      "source": [
        "### 2.1.1 Model loss plot\n"
      ]
    },
    {
      "cell_type": "code",
      "execution_count": null,
      "metadata": {
        "colab": {
          "base_uri": "https://localhost:8080/",
          "height": 295
        },
        "id": "eKtX0cvgX95C",
        "outputId": "ca4b781f-38c9-4415-bff0-626bbb5f18cc"
      },
      "outputs": [
        {
          "data": {
            "image/png": "[encoded data removed]",
            "text/plain": [
              "<Figure size 864x288 with 1 Axes>"
            ]
          },
          "metadata": {
            "needs_background": "light"
          },
          "output_type": "display_data"
        }
      ],
      "source": [
        "# history plot for accuracy\n",
        "plt.figure(figsize=(12,4))\n",
        "plt.plot(history.history[\"loss\"])\n",
        "plt.plot(history.history[\"val_loss\"])\n",
        "plt.title(\"Model Loss\")\n",
        "plt.xlabel(\"Epoch\")\n",
        "plt.ylabel(\"Loss\")\n",
        "plt.legend([\"train\", \"test\"])\n",
        "plt.show()"
      ]
    },
    {
      "cell_type": "markdown",
      "metadata": {
        "id": "Qcq80xXKZXSb"
      },
      "source": [
        "### 2.1.2 Prediction"
      ]
    },
    {
      "cell_type": "code",
      "execution_count": null,
      "metadata": {
        "colab": {
          "base_uri": "https://localhost:8080/"
        },
        "id": "zBxci7uCyoRw",
        "outputId": "383fbbd4-0abe-4f60-ea13-b33c4730238a"
      },
      "outputs": [
        {
          "name": "stdout",
          "output_type": "stream",
          "text": [
            "Wall time: 4.96 s\n"
          ]
        }
      ],
      "source": [
        "%%time\n",
        "#https://stackoverflow.com/questions/55779286/valueerror-unknown-activation-function-my-custom-activation-function\n",
        "model_e2e = tf.keras.models.load_model(checkpoint_file_name, \n",
        "                                          custom_objects={'custom_activation':custom_activation})"
      ]
    },
    {
      "cell_type": "code",
      "execution_count": null,
      "metadata": {
        "colab": {
          "base_uri": "https://localhost:8080/"
        },
        "id": "kFa1n1pXX92d",
        "outputId": "b3aa575d-0d46-4d03-c6a0-feda848a9bc6"
      },
      "outputs": [
        {
          "name": "stdout",
          "output_type": "stream",
          "text": [
            "CPU times: user 4min 5s, sys: 18.7 s, total: 4min 24s\n",
            "Wall time: 4min 13s\n"
          ]
        }
      ],
      "source": [
        "%%time\n",
        "y_val_pred = []\n",
        "\n",
        "for i in X_val:\n",
        "    #i = cv2.resize(i, (200,66))\n",
        "    #i = i/255.0\n",
        "    i = np.expand_dims(i, axis=0)\n",
        "    prediction = model_e2e.predict(i)\n",
        "    y_val_pred.extend(prediction[0])"
      ]
    },
    {
      "cell_type": "code",
      "execution_count": null,
      "metadata": {
        "colab": {
          "base_uri": "https://localhost:8080/"
        },
        "id": "r_6vtzMisjfV",
        "outputId": "e8e45de2-0fba-4f78-9c72-a5790ac4f731"
      },
      "outputs": [
        {
          "name": "stdout",
          "output_type": "stream",
          "text": [
            "Test_MSE: 0.020945\n"
          ]
        }
      ],
      "source": [
        " # Calculation of Mean Squared Error (MSE)\n",
        "print('Test_MSE: %f' % mean_squared_error(y_val,y_val_pred))"
      ]
    },
    {
      "cell_type": "code",
      "execution_count": null,
      "metadata": {
        "id": "QtTY0mJusjfW"
      },
      "outputs": [],
      "source": []
    },
    {
      "cell_type": "markdown",
      "metadata": {
        "id": "iR6UgFykx7V1"
      },
      "source": [
        "## 2.2 (Modified) End-to-end learning (Nvidia architecture) - with MaxPooling"
      ]
    },
    {
      "cell_type": "code",
      "execution_count": null,
      "metadata": {
        "id": "bc0KXgmeyROL"
      },
      "outputs": [],
      "source": [
        "filepath = './drive/MyDrive/Colab_Notebooks/MSDS462-Computer_Vision-Final_Project/models/self_drive_model_E2E_v2.hdf5'"
      ]
    },
    {
      "cell_type": "code",
      "execution_count": null,
      "metadata": {
        "id": "FgQMyr1UyAqi"
      },
      "outputs": [],
      "source": [
        "def keras_model():\n",
        "    img_input = tf.keras.Input(img_size)\n",
        "    \n",
        "    x = tf.keras.layers.Conv2D(filters=32, kernel_size=(3,3), padding='same', activation='relu',  name='conv-1')(img_input)\n",
        "    x = tf.keras.layers.MaxPool2D((2, 2), padding='valid')(x)\n",
        "    \n",
        "    x = tf.keras.layers.Conv2D(filters=64, kernel_size=(3,3), padding='same', activation='relu',  name='conv-2')(x)\n",
        "    x = tf.keras.layers.MaxPool2D((2, 2), padding='valid')(x)\n",
        "    \n",
        "    x = tf.keras.layers.Conv2D(filters=128, kernel_size=(3,3), padding='same', activation='relu',  name='conv-3')(x)\n",
        "    x = tf.keras.layers.MaxPool2D((2, 2), padding='valid')(x)\n",
        "    \n",
        "    x = tf.keras.layers.Flatten(name='flatten')(x)\n",
        "    x = tf.keras.layers.Dropout(0.5, name='dropout-1')(x)\n",
        "    \n",
        "    x = tf.keras.layers.Dense(128, activation='relu', name='dense_layer-1')(x)\n",
        "    x = tf.keras.layers.Dense(64, activation='relu', name='dense_layer-2')(x)\n",
        "    \n",
        "    output = tf.keras.layers.Dense(1, activation='relu', name='output')(x)\n",
        "    model = tf.keras.models.Model(inputs=img_input, outputs=output, name='model-1')\n",
        "    model.compile(optimizer=tf.keras.optimizers.Adam(learning_rate=0.0001), loss='mean_squared_error')\n",
        "    \n",
        "    model_checkpoint = ModelCheckpoint(filepath, monitor='val_loss', verbose=1, save_best_only=True)\n",
        "    callbacks_list = [model_checkpoint]\n",
        "    \n",
        "    return model, callbacks_list"
      ]
    },
    {
      "cell_type": "code",
      "execution_count": null,
      "metadata": {
        "id": "mEDmnrP_yAn0"
      },
      "outputs": [],
      "source": [
        "model_e2e_2, callbacks_list = keras_model()"
      ]
    },
    {
      "cell_type": "code",
      "execution_count": null,
      "metadata": {
        "colab": {
          "base_uri": "https://localhost:8080/"
        },
        "id": "q_Jr0lqPyAlA",
        "outputId": "61600595-89af-4c7a-9744-6e7e53639f14"
      },
      "outputs": [
        {
          "name": "stdout",
          "output_type": "stream",
          "text": [
            "Epoch 1/10\n",
            "2552/2555 [============================>.] - ETA: 0s - loss: 0.2940\n",
            "Epoch 1: val_loss did not improve from 0.27633\n",
            "2555/2555 [==============================] - 22s 9ms/step - loss: 0.2938 - val_loss: 0.2763\n",
            "Epoch 2/10\n",
            "2554/2555 [============================>.] - ETA: 0s - loss: 0.2938\n",
            "Epoch 2: val_loss did not improve from 0.27633\n",
            "2555/2555 [==============================] - 23s 9ms/step - loss: 0.2938 - val_loss: 0.2763\n",
            "Epoch 3/10\n",
            "2555/2555 [==============================] - ETA: 0s - loss: 0.2938\n",
            "Epoch 3: val_loss did not improve from 0.27633\n",
            "2555/2555 [==============================] - 22s 9ms/step - loss: 0.2938 - val_loss: 0.2763\n",
            "Epoch 4/10\n",
            "2554/2555 [============================>.] - ETA: 0s - loss: 0.2938\n",
            "Epoch 4: val_loss did not improve from 0.27633\n",
            "2555/2555 [==============================] - 23s 9ms/step - loss: 0.2938 - val_loss: 0.2763\n",
            "Epoch 5/10\n",
            "2549/2555 [============================>.] - ETA: 0s - loss: 0.2943\n",
            "Epoch 5: val_loss did not improve from 0.27633\n",
            "2555/2555 [==============================] - 23s 9ms/step - loss: 0.2938 - val_loss: 0.2763\n",
            "Epoch 6/10\n",
            "2552/2555 [============================>.] - ETA: 0s - loss: 0.2939\n",
            "Epoch 6: val_loss did not improve from 0.27633\n",
            "2555/2555 [==============================] - 23s 9ms/step - loss: 0.2938 - val_loss: 0.2763\n",
            "Epoch 7/10\n",
            "2552/2555 [============================>.] - ETA: 0s - loss: 0.2938\n",
            "Epoch 7: val_loss did not improve from 0.27633\n",
            "2555/2555 [==============================] - 22s 9ms/step - loss: 0.2938 - val_loss: 0.2763\n",
            "Epoch 8/10\n",
            "2553/2555 [============================>.] - ETA: 0s - loss: 0.2939\n",
            "Epoch 8: val_loss did not improve from 0.27633\n",
            "2555/2555 [==============================] - 22s 9ms/step - loss: 0.2938 - val_loss: 0.2763\n",
            "Epoch 9/10\n",
            "2553/2555 [============================>.] - ETA: 0s - loss: 0.2939\n",
            "Epoch 9: val_loss did not improve from 0.27633\n",
            "2555/2555 [==============================] - 22s 9ms/step - loss: 0.2938 - val_loss: 0.2763\n",
            "Epoch 10/10\n",
            "2551/2555 [============================>.] - ETA: 0s - loss: 0.2940\n",
            "Epoch 10: val_loss did not improve from 0.27633\n",
            "2555/2555 [==============================] - 24s 9ms/step - loss: 0.2938 - val_loss: 0.2763\n",
            "CPU times: user 4min 21s, sys: 42.4 s, total: 5min 3s\n",
            "Wall time: 4min 29s\n"
          ]
        }
      ],
      "source": [
        "%%time\n",
        "history = model_e2e_2.fit(X_train, y_train, validation_data=(X_val, y_val), \n",
        "                epochs=10, batch_size=16,callbacks=callbacks_list)\n",
        "model_e2e_2.save(filepath)"
      ]
    },
    {
      "cell_type": "code",
      "execution_count": null,
      "metadata": {
        "colab": {
          "base_uri": "https://localhost:8080/",
          "height": 295
        },
        "id": "DCly_2-TfXjV",
        "outputId": "b0b2aa11-73d1-4a73-8e11-b9450656849d"
      },
      "outputs": [
        {
          "data": {
            "image/png": "[encoded data removed]",
            "text/plain": [
              "<Figure size 864x288 with 1 Axes>"
            ]
          },
          "metadata": {
            "needs_background": "light"
          },
          "output_type": "display_data"
        }
      ],
      "source": [
        "# history plot for accuracy\n",
        "plt.figure(figsize=(12,4))\n",
        "plt.plot(history.history[\"loss\"])\n",
        "plt.plot(history.history[\"val_loss\"])\n",
        "plt.title(\"Model Loss\")\n",
        "plt.xlabel(\"Epoch\")\n",
        "plt.ylabel(\"Loss\")\n",
        "plt.legend([\"train\", \"test\"])\n",
        "plt.show()"
      ]
    },
    {
      "cell_type": "code",
      "execution_count": null,
      "metadata": {
        "id": "s4wQnqO_fXgh"
      },
      "outputs": [],
      "source": []
    },
    {
      "cell_type": "markdown",
      "metadata": {
        "id": "QtRD_Y3qyxxZ"
      },
      "source": [
        "### 2.2.1 Prediction"
      ]
    },
    {
      "cell_type": "code",
      "execution_count": null,
      "metadata": {
        "id": "HELE1JvZyAim"
      },
      "outputs": [],
      "source": [
        "%%time\n",
        "model_e2e_2 = tf.keras.models.load_model(filepath)"
      ]
    },
    {
      "cell_type": "code",
      "execution_count": null,
      "metadata": {
        "colab": {
          "base_uri": "https://localhost:8080/"
        },
        "id": "M7_wtolbyAf7",
        "outputId": "61697550-44c8-40d0-f328-1264f7837f46"
      },
      "outputs": [
        {
          "name": "stdout",
          "output_type": "stream",
          "text": [
            "CPU times: user 4min 14s, sys: 15.7 s, total: 4min 30s\n",
            "Wall time: 4min 21s\n"
          ]
        }
      ],
      "source": [
        "%%time\n",
        "y_val_pred = []\n",
        "\n",
        "for i in X_val:\n",
        "    i = np.expand_dims(i, axis=0)\n",
        "    prediction = model_e2e_2.predict(i)\n",
        "    y_val_pred.extend(prediction[0])"
      ]
    },
    {
      "cell_type": "code",
      "execution_count": null,
      "metadata": {
        "colab": {
          "base_uri": "https://localhost:8080/"
        },
        "id": "7J0kwENXyAdT",
        "outputId": "b9f9d56b-03a7-41f3-f5ce-31b3864b8a49"
      },
      "outputs": [
        {
          "name": "stdout",
          "output_type": "stream",
          "text": [
            "Test_MSE: 0.276331\n"
          ]
        }
      ],
      "source": [
        "# Calculation of Mean Squared Error (MSE)\n",
        "print('Test_MSE: %f' % mean_squared_error(y_val,y_val_pred))"
      ]
    },
    {
      "cell_type": "code",
      "execution_count": null,
      "metadata": {
        "id": "DbVc-LjuyAVQ"
      },
      "outputs": [],
      "source": []
    },
    {
      "cell_type": "markdown",
      "metadata": {
        "id": "VpurbbfCYtYz"
      },
      "source": [
        "## 2.3 VGG16"
      ]
    },
    {
      "cell_type": "code",
      "execution_count": null,
      "metadata": {
        "id": "Y98qA9LVzH_Y"
      },
      "outputs": [],
      "source": [
        "filepath = \"./drive/MyDrive/Colab_Notebooks/MSDS462-Computer_Vision-Final_Project/models/self_drive_vgg16.h5\""
      ]
    },
    {
      "cell_type": "code",
      "execution_count": null,
      "metadata": {
        "colab": {
          "base_uri": "https://localhost:8080/"
        },
        "id": "QoG5thS2O-Kw",
        "outputId": "4f3cb5a5-128a-4744-e79d-2170637aa08e"
      },
      "outputs": [
        {
          "name": "stdout",
          "output_type": "stream",
          "text": [
            "Downloading data from https://storage.googleapis.com/tensorflow/keras-applications/vgg16/vgg16_weights_tf_dim_ordering_tf_kernels_notop.h5\n",
            "58892288/58889256 [==============================] - 1s 0us/step\n",
            "58900480/58889256 [==============================] - 1s 0us/step\n"
          ]
        }
      ],
      "source": [
        "model_vgg16 = tf.keras.applications.VGG16(input_shape=img_size,\n",
        "                                            include_top = False, \n",
        "                                            weights='imagenet')"
      ]
    },
    {
      "cell_type": "code",
      "execution_count": null,
      "metadata": {
        "colab": {
          "base_uri": "https://localhost:8080/"
        },
        "id": "fKc-mmq9O-Gj",
        "outputId": "f7782e04-f009-4abf-fe99-7d81305fcffa"
      },
      "outputs": [
        {
          "name": "stdout",
          "output_type": "stream",
          "text": [
            "Model: \"vgg16\"\n",
            "_________________________________________________________________\n",
            " Layer (type)                Output Shape              Param #   \n",
            "=================================================================\n",
            " input_3 (InputLayer)        [(None, 66, 200, 3)]      0         \n",
            "                                                                 \n",
            " block1_conv1 (Conv2D)       (None, 66, 200, 64)       1792      \n",
            "                                                                 \n",
            " block1_conv2 (Conv2D)       (None, 66, 200, 64)       36928     \n",
            "                                                                 \n",
            " block1_pool (MaxPooling2D)  (None, 33, 100, 64)       0         \n",
            "                                                                 \n",
            " block2_conv1 (Conv2D)       (None, 33, 100, 128)      73856     \n",
            "                                                                 \n",
            " block2_conv2 (Conv2D)       (None, 33, 100, 128)      147584    \n",
            "                                                                 \n",
            " block2_pool (MaxPooling2D)  (None, 16, 50, 128)       0         \n",
            "                                                                 \n",
            " block3_conv1 (Conv2D)       (None, 16, 50, 256)       295168    \n",
            "                                                                 \n",
            " block3_conv2 (Conv2D)       (None, 16, 50, 256)       590080    \n",
            "                                                                 \n",
            " block3_conv3 (Conv2D)       (None, 16, 50, 256)       590080    \n",
            "                                                                 \n",
            " block3_pool (MaxPooling2D)  (None, 8, 25, 256)        0         \n",
            "                                                                 \n",
            " block4_conv1 (Conv2D)       (None, 8, 25, 512)        1180160   \n",
            "                                                                 \n",
            " block4_conv2 (Conv2D)       (None, 8, 25, 512)        2359808   \n",
            "                                                                 \n",
            " block4_conv3 (Conv2D)       (None, 8, 25, 512)        2359808   \n",
            "                                                                 \n",
            " block4_pool (MaxPooling2D)  (None, 4, 12, 512)        0         \n",
            "                                                                 \n",
            " block5_conv1 (Conv2D)       (None, 4, 12, 512)        2359808   \n",
            "                                                                 \n",
            " block5_conv2 (Conv2D)       (None, 4, 12, 512)        2359808   \n",
            "                                                                 \n",
            " block5_conv3 (Conv2D)       (None, 4, 12, 512)        2359808   \n",
            "                                                                 \n",
            " block5_pool (MaxPooling2D)  (None, 2, 6, 512)         0         \n",
            "                                                                 \n",
            "=================================================================\n",
            "Total params: 14,714,688\n",
            "Trainable params: 14,714,688\n",
            "Non-trainable params: 0\n",
            "_________________________________________________________________\n"
          ]
        }
      ],
      "source": [
        "model_vgg16.summary()"
      ]
    },
    {
      "cell_type": "code",
      "execution_count": null,
      "metadata": {
        "id": "6Jo97USaO-D8"
      },
      "outputs": [],
      "source": [
        "model_vgg16.trainable = False"
      ]
    },
    {
      "cell_type": "markdown",
      "metadata": {
        "id": "Wt7Du9Hnd-x1"
      },
      "source": [
        "Adding custom dense layer on top of the VGG16 convolutional layers "
      ]
    },
    {
      "cell_type": "code",
      "execution_count": null,
      "metadata": {
        "id": "03PQAM8_O-BE"
      },
      "outputs": [],
      "source": [
        "inputs = tf.keras.Input(shape=img_size)\n",
        "x = tf.keras.applications.vgg16.preprocess_input(inputs)\n",
        "\n",
        "# We make sure that the base_model is running in inference mode here,\n",
        "# by passing `training=False`. This is important for fine-tuning\n",
        "x = model_vgg16(x, training=False)\n",
        "#x = tf.keras.layers.GlobalAveragePooling2D()(x)    # Recommended if the number of images is less (< 10k or so)\n",
        "\n",
        "#Dense Layer\n",
        "x = tf.keras.layers.Flatten()(x)\n",
        "x = tf.keras.layers.Dense(1164)(x)\n",
        "x = tf.keras.layers.Dropout(0.5)(x)\n",
        "x = tf.keras.layers.Dense(100)(x)\n",
        "x = tf.keras.layers.Dropout(0.5)(x)\n",
        "x = tf.keras.layers.Dense(50)(x)\n",
        "x = tf.keras.layers.Dropout(0.5)(x)\n",
        "x = tf.keras.layers.Dense(10)(x)\n",
        "\n",
        "# Output layer with tanh activation \n",
        "outputs = tf.keras.layers.Dense(1,activation='tanh')(x)"
      ]
    },
    {
      "cell_type": "code",
      "execution_count": null,
      "metadata": {
        "id": "OfEZ0WAMbEXi"
      },
      "outputs": [],
      "source": [
        "# With all the components in place, we build our final model architecture.\n",
        "model_vgg16 = tf.keras.Model(inputs, outputs)"
      ]
    },
    {
      "cell_type": "code",
      "execution_count": null,
      "metadata": {
        "colab": {
          "base_uri": "https://localhost:8080/"
        },
        "id": "B_4mSYbrf2tp",
        "outputId": "0bbe3d98-a024-499e-8cd5-451b20e273df"
      },
      "outputs": [
        {
          "name": "stdout",
          "output_type": "stream",
          "text": [
            "Model: \"model\"\n",
            "_________________________________________________________________\n",
            " Layer (type)                Output Shape              Param #   \n",
            "=================================================================\n",
            " input_4 (InputLayer)        [(None, 66, 200, 3)]      0         \n",
            "                                                                 \n",
            " tf.__operators__.getitem (S  (None, 66, 200, 3)       0         \n",
            " licingOpLambda)                                                 \n",
            "                                                                 \n",
            " tf.nn.bias_add (TFOpLambda)  (None, 66, 200, 3)       0         \n",
            "                                                                 \n",
            " vgg16 (Functional)          (None, 2, 6, 512)         14714688  \n",
            "                                                                 \n",
            " flatten (Flatten)           (None, 6144)              0         \n",
            "                                                                 \n",
            " dense (Dense)               (None, 1164)              7152780   \n",
            "                                                                 \n",
            " dropout (Dropout)           (None, 1164)              0         \n",
            "                                                                 \n",
            " dense_1 (Dense)             (None, 100)               116500    \n",
            "                                                                 \n",
            " dropout_1 (Dropout)         (None, 100)               0         \n",
            "                                                                 \n",
            " dense_2 (Dense)             (None, 50)                5050      \n",
            "                                                                 \n",
            " dropout_2 (Dropout)         (None, 50)                0         \n",
            "                                                                 \n",
            " dense_3 (Dense)             (None, 10)                510       \n",
            "                                                                 \n",
            " dense_4 (Dense)             (None, 1)                 11        \n",
            "                                                                 \n",
            "=================================================================\n",
            "Total params: 21,989,539\n",
            "Trainable params: 7,274,851\n",
            "Non-trainable params: 14,714,688\n",
            "_________________________________________________________________\n"
          ]
        }
      ],
      "source": [
        "model_vgg16.summary()"
      ]
    },
    {
      "cell_type": "code",
      "execution_count": null,
      "metadata": {
        "id": "on4Pmf5ObETK"
      },
      "outputs": [],
      "source": [
        "adam = Adam(learning_rate=1e-7, beta_1=0.9, beta_2=0.999, epsilon=1e-08, decay=0.0)\n",
        "model_vgg16.compile(optimizer=\"adam\", loss=\"mse\", metrics='mean_squared_error')"
      ]
    },
    {
      "cell_type": "code",
      "execution_count": null,
      "metadata": {
        "id": "Z95kqVn9bEPl"
      },
      "outputs": [],
      "source": [
        "BATCH_SIZE = 100\n",
        "NBR_EPOCHS = 10"
      ]
    },
    {
      "cell_type": "code",
      "execution_count": null,
      "metadata": {
        "id": "mzdJosMobEMt"
      },
      "outputs": [],
      "source": [
        "checkpoint1 = ModelCheckpoint(filepath, verbose=1, save_best_only=True)\n",
        "callbacks_list = [checkpoint1]"
      ]
    },
    {
      "cell_type": "code",
      "execution_count": null,
      "metadata": {
        "colab": {
          "base_uri": "https://localhost:8080/"
        },
        "id": "yVtZXfy_bEKA",
        "outputId": "9fc840cd-a39c-451a-8838-1a95dcde5223"
      },
      "outputs": [
        {
          "name": "stdout",
          "output_type": "stream",
          "text": [
            "Epoch 1/10\n",
            "409/409 [==============================] - ETA: 0s - loss: 1.2501 - mean_squared_error: 1.2501\n",
            "Epoch 1: val_loss improved from inf to 1.21666, saving model to ./drive/MyDrive/Colab_Notebooks/MSDS462-Computer_Vision-Final_Project/models/self_drive_vgg16.h5\n",
            "409/409 [==============================] - 41s 94ms/step - loss: 1.2501 - mean_squared_error: 1.2501 - val_loss: 1.2167 - val_mean_squared_error: 1.2167\n",
            "Epoch 2/10\n",
            "409/409 [==============================] - ETA: 0s - loss: 1.2330 - mean_squared_error: 1.2330\n",
            "Epoch 2: val_loss did not improve from 1.21666\n",
            "409/409 [==============================] - 34s 83ms/step - loss: 1.2330 - mean_squared_error: 1.2330 - val_loss: 1.2167 - val_mean_squared_error: 1.2167\n",
            "Epoch 3/10\n",
            "409/409 [==============================] - ETA: 0s - loss: 1.2328 - mean_squared_error: 1.2328\n",
            "Epoch 3: val_loss did not improve from 1.21666\n",
            "409/409 [==============================] - 34s 83ms/step - loss: 1.2328 - mean_squared_error: 1.2328 - val_loss: 1.2167 - val_mean_squared_error: 1.2167\n",
            "Epoch 4/10\n",
            "409/409 [==============================] - ETA: 0s - loss: 1.2328 - mean_squared_error: 1.2328\n",
            "Epoch 4: val_loss did not improve from 1.21666\n",
            "409/409 [==============================] - 34s 83ms/step - loss: 1.2328 - mean_squared_error: 1.2328 - val_loss: 1.2167 - val_mean_squared_error: 1.2167\n",
            "Epoch 5/10\n",
            "409/409 [==============================] - ETA: 0s - loss: 1.2328 - mean_squared_error: 1.2328\n",
            "Epoch 5: val_loss did not improve from 1.21666\n",
            "409/409 [==============================] - 34s 83ms/step - loss: 1.2328 - mean_squared_error: 1.2328 - val_loss: 1.2167 - val_mean_squared_error: 1.2167\n",
            "Epoch 6/10\n",
            "409/409 [==============================] - ETA: 0s - loss: 1.2328 - mean_squared_error: 1.2328\n",
            "Epoch 6: val_loss did not improve from 1.21666\n",
            "409/409 [==============================] - 34s 83ms/step - loss: 1.2328 - mean_squared_error: 1.2328 - val_loss: 1.2167 - val_mean_squared_error: 1.2167\n",
            "Epoch 7/10\n",
            "409/409 [==============================] - ETA: 0s - loss: 1.2328 - mean_squared_error: 1.2328\n",
            "Epoch 7: val_loss did not improve from 1.21666\n",
            "409/409 [==============================] - 34s 83ms/step - loss: 1.2328 - mean_squared_error: 1.2328 - val_loss: 1.2167 - val_mean_squared_error: 1.2167\n",
            "Epoch 8/10\n",
            "409/409 [==============================] - ETA: 0s - loss: 1.2328 - mean_squared_error: 1.2328\n",
            "Epoch 8: val_loss did not improve from 1.21666\n",
            "409/409 [==============================] - 34s 83ms/step - loss: 1.2328 - mean_squared_error: 1.2328 - val_loss: 1.2167 - val_mean_squared_error: 1.2167\n",
            "Epoch 9/10\n",
            "409/409 [==============================] - ETA: 0s - loss: 1.2328 - mean_squared_error: 1.2328\n",
            "Epoch 9: val_loss did not improve from 1.21666\n",
            "409/409 [==============================] - 34s 83ms/step - loss: 1.2328 - mean_squared_error: 1.2328 - val_loss: 1.2167 - val_mean_squared_error: 1.2167\n",
            "Epoch 10/10\n",
            "409/409 [==============================] - ETA: 0s - loss: 1.2328 - mean_squared_error: 1.2328\n",
            "Epoch 10: val_loss did not improve from 1.21666\n",
            "409/409 [==============================] - 34s 83ms/step - loss: 1.2328 - mean_squared_error: 1.2328 - val_loss: 1.2167 - val_mean_squared_error: 1.2167\n",
            "CPU times: user 2min 12s, sys: 24.5 s, total: 2min 36s\n",
            "Wall time: 5min 51s\n"
          ]
        }
      ],
      "source": [
        "%%time\n",
        "history = model_vgg16.fit(X_train, y_train, validation_data=(X_val, y_val), \n",
        "          epochs=NBR_EPOCHS, batch_size=BATCH_SIZE, callbacks=callbacks_list)\n",
        "model_vgg16.save(filepath)"
      ]
    },
    {
      "cell_type": "code",
      "execution_count": null,
      "metadata": {
        "colab": {
          "base_uri": "https://localhost:8080/",
          "height": 295
        },
        "id": "acBIt79tgTer",
        "outputId": "91a0c79a-6c60-4ed7-cdf1-f628f28d071a"
      },
      "outputs": [
        {
          "data": {
            "image/png": "[encoded data removed]",
            "text/plain": [
              "<Figure size 864x288 with 1 Axes>"
            ]
          },
          "metadata": {
            "needs_background": "light"
          },
          "output_type": "display_data"
        }
      ],
      "source": [
        "# history plot for accuracy\n",
        "plt.figure(figsize=(12,4))\n",
        "plt.plot(history.history[\"loss\"])\n",
        "plt.plot(history.history[\"val_loss\"])\n",
        "plt.title(\"Model Loss\")\n",
        "plt.xlabel(\"Epoch\")\n",
        "plt.ylabel(\"Loss\")\n",
        "plt.legend([\"train\", \"test\"])\n",
        "plt.show()"
      ]
    },
    {
      "cell_type": "code",
      "execution_count": null,
      "metadata": {
        "id": "JZnpefoIgTba"
      },
      "outputs": [],
      "source": []
    },
    {
      "cell_type": "markdown",
      "metadata": {
        "id": "0FFREQO4zVzz"
      },
      "source": [
        "### 2.3.1 Prediction"
      ]
    },
    {
      "cell_type": "code",
      "execution_count": null,
      "metadata": {
        "colab": {
          "base_uri": "https://localhost:8080/"
        },
        "id": "hpsQrrEcbEHZ",
        "outputId": "c4cc3e6b-8411-4298-abb5-6b2a34a3fc54"
      },
      "outputs": [
        {
          "name": "stdout",
          "output_type": "stream",
          "text": [
            "CPU times: user 649 ms, sys: 224 ms, total: 873 ms\n",
            "Wall time: 3.3 s\n"
          ]
        }
      ],
      "source": [
        "%%time\n",
        "model_vgg16 = tf.keras.models.load_model(filepath)"
      ]
    },
    {
      "cell_type": "code",
      "execution_count": null,
      "metadata": {
        "colab": {
          "base_uri": "https://localhost:8080/"
        },
        "id": "IK5I0-g7O9-T",
        "outputId": "e09344be-db43-4d76-c29b-f8a64d28bf0a"
      },
      "outputs": [
        {
          "name": "stdout",
          "output_type": "stream",
          "text": [
            "CPU times: user 4min 20s, sys: 13.8 s, total: 4min 34s\n",
            "Wall time: 4min 20s\n"
          ]
        }
      ],
      "source": [
        "%%time\n",
        "y_val_pred = []\n",
        "\n",
        "for i in X_val:\n",
        "    i = np.expand_dims(i, axis=0)\n",
        "    prediction = model_vgg16.predict(i)\n",
        "    y_val_pred.extend(prediction[0])"
      ]
    },
    {
      "cell_type": "code",
      "execution_count": null,
      "metadata": {
        "colab": {
          "base_uri": "https://localhost:8080/"
        },
        "id": "0z8UrEpkO94d",
        "outputId": "47d9bcb2-b24e-4197-f438-3b7c444e5868"
      },
      "outputs": [
        {
          "name": "stdout",
          "output_type": "stream",
          "text": [
            "Test_MSE: 1.216659\n"
          ]
        }
      ],
      "source": [
        "# Calculation of Mean Squared Error (MSE)\n",
        "print('Test_MSE: %f' % mean_squared_error(y_val,y_val_pred))"
      ]
    },
    {
      "cell_type": "code",
      "execution_count": null,
      "metadata": {
        "id": "Od2JfTWsO91j"
      },
      "outputs": [],
      "source": []
    },
    {
      "cell_type": "markdown",
      "metadata": {
        "id": "HFwAyo2fgoWN"
      },
      "source": [
        "## 2.4 MobileNetV2"
      ]
    },
    {
      "cell_type": "code",
      "execution_count": null,
      "metadata": {
        "id": "DPd7lxcagn4I"
      },
      "outputs": [],
      "source": [
        "from keras.applications.mobilenet import MobileNet\n",
        "from keras.layers import Dense, Activation, Flatten, Conv2D, Lambda, Input\n",
        "from keras.models import Model\n",
        "from keras.callbacks import History"
      ]
    },
    {
      "cell_type": "code",
      "execution_count": null,
      "metadata": {
        "colab": {
          "base_uri": "https://localhost:8080/"
        },
        "id": "XeDrALY5gn0t",
        "outputId": "d7c5f8a9-a4f6-4c2c-eef9-61ae46d9faf7"
      },
      "outputs": [
        {
          "name": "stdout",
          "output_type": "stream",
          "text": [
            "Model: \"model_2\"\n",
            "_________________________________________________________________\n",
            " Layer (type)                Output Shape              Param #   \n",
            "=================================================================\n",
            " input_6 (InputLayer)        [(None, 66, 200, 3)]      0         \n",
            "                                                                 \n",
            " lambda (Lambda)             (None, 66, 200, 3)        0         \n",
            "                                                                 \n",
            " mobilenet_1.00_66 (Function  (None, 2, 6, 1024)       3228864   \n",
            " al)                                                             \n",
            "                                                                 \n",
            " flatten_1 (Flatten)         (None, 12288)             0         \n",
            "                                                                 \n",
            " dropout_3 (Dropout)         (None, 12288)             0         \n",
            "                                                                 \n",
            " dense_5 (Dense)             (None, 288)               3539232   \n",
            "                                                                 \n",
            " dense_6 (Dense)             (None, 9)                 2601      \n",
            "                                                                 \n",
            " dense_7 (Dense)             (None, 1)                 10        \n",
            "                                                                 \n",
            "=================================================================\n",
            "Total params: 6,770,707\n",
            "Trainable params: 6,748,819\n",
            "Non-trainable params: 21,888\n",
            "_________________________________________________________________\n"
          ]
        }
      ],
      "source": [
        "Mobile_model = MobileNet(include_top=False, weights= None, input_shape=img_size)\n",
        "\n",
        "#keeping the weights intact\n",
        "for layer in Mobile_model.layers:\n",
        "    layer.trainable = True\n",
        "\n",
        "inputs = Input(img_size) \n",
        "\n",
        "lambdas = Lambda(lambda x: x / 127.5 - 1.)(inputs)\n",
        "\n",
        "outputs = Mobile_model(lambdas)\n",
        "\n",
        "model = Model(inputs, outputs)\n",
        "\n",
        "last  = model.output\n",
        "\n",
        "x = Flatten()(last)\n",
        "x = Dropout(0.5)(x)\n",
        "x = Dense(288)(x)\n",
        "x = Dense(9)(x)\n",
        "preds = Dense(1)(x)\n",
        "\n",
        "model_mobileNet = Model(model.input, preds)\n",
        "    \n",
        "model_mobileNet.compile(optimizer=Adam(learning_rate=0.0001), loss=\"mse\")\n",
        "model_mobileNet.summary()"
      ]
    },
    {
      "cell_type": "code",
      "execution_count": null,
      "metadata": {
        "id": "RkPgzREIgnyY"
      },
      "outputs": [],
      "source": [
        "filepath = \"./drive/MyDrive/Colab_Notebooks/MSDS462-Computer_Vision-Final_Project/models/self_drive_mobileNetV2.h5\"\n",
        "\n",
        "es = EarlyStopping(monitor='val_loss', verbose=1)\n",
        "checkpoint = ModelCheckpoint(filepath, verbose=1,monitor='val_loss', save_best_only=True)\n",
        "hist = History()\n",
        "callbacks_list = [es,checkpoint,hist]"
      ]
    },
    {
      "cell_type": "code",
      "execution_count": null,
      "metadata": {
        "colab": {
          "base_uri": "https://localhost:8080/"
        },
        "id": "BYgqQS6FgnwH",
        "outputId": "85586eec-e49a-4f8b-8f61-2a33f3715ebb"
      },
      "outputs": [
        {
          "name": "stdout",
          "output_type": "stream",
          "text": [
            "Epoch 1/10\n",
            "1278/1278 [==============================] - ETA: 0s - loss: 1.5743\n",
            "Epoch 1: val_loss improved from inf to 0.47985, saving model to ./drive/MyDrive/Colab_Notebooks/MSDS462-Computer_Vision-Final_Project/models/self_drive_mobileNetV2.h5\n",
            "1278/1278 [==============================] - 69s 51ms/step - loss: 1.5743 - val_loss: 0.4798\n",
            "Epoch 2/10\n",
            "1277/1278 [============================>.] - ETA: 0s - loss: 0.5001\n",
            "Epoch 2: val_loss improved from 0.47985 to 0.41520, saving model to ./drive/MyDrive/Colab_Notebooks/MSDS462-Computer_Vision-Final_Project/models/self_drive_mobileNetV2.h5\n",
            "1278/1278 [==============================] - 64s 50ms/step - loss: 0.5001 - val_loss: 0.4152\n",
            "Epoch 2: early stopping\n",
            "CPU times: user 2min 22s, sys: 6.06 s, total: 2min 28s\n",
            "Wall time: 2min 16s\n"
          ]
        }
      ],
      "source": [
        "%%time\n",
        "history = model_mobileNet.fit(X_train, y_train, validation_data=(X_val, y_val), epochs=10, batch_size=32,callbacks=callbacks_list)\n",
        "model_mobileNet.save(filepath)"
      ]
    },
    {
      "cell_type": "code",
      "execution_count": null,
      "metadata": {
        "colab": {
          "base_uri": "https://localhost:8080/",
          "height": 295
        },
        "id": "B2kcFqljgntY",
        "outputId": "1dcce53c-faff-4a7c-805c-fdedf725f90e"
      },
      "outputs": [
        {
          "data": {
            "image/png": "[encoded data removed]",
            "text/plain": [
              "<Figure size 864x288 with 1 Axes>"
            ]
          },
          "metadata": {
            "needs_background": "light"
          },
          "output_type": "display_data"
        }
      ],
      "source": [
        "# history plot for accuracy\n",
        "plt.figure(figsize=(12,4))\n",
        "plt.plot(history.history[\"loss\"])\n",
        "plt.plot(history.history[\"val_loss\"])\n",
        "plt.title(\"Model Loss\")\n",
        "plt.xlabel(\"Epoch\")\n",
        "plt.ylabel(\"Loss\")\n",
        "plt.legend([\"train\", \"test\"])\n",
        "plt.show()"
      ]
    },
    {
      "cell_type": "code",
      "execution_count": null,
      "metadata": {
        "id": "bsgFZjc8gnq0"
      },
      "outputs": [],
      "source": []
    },
    {
      "cell_type": "markdown",
      "metadata": {
        "id": "Ki4oGSuhhPy-"
      },
      "source": [
        "### 2.4.1 Prediction"
      ]
    },
    {
      "cell_type": "code",
      "execution_count": null,
      "metadata": {
        "id": "-9bwnUzfhOES"
      },
      "outputs": [],
      "source": [
        "%%time\n",
        "model_mobileNet = tf.keras.models.load_model(filepath)"
      ]
    },
    {
      "cell_type": "code",
      "execution_count": null,
      "metadata": {
        "colab": {
          "base_uri": "https://localhost:8080/"
        },
        "id": "rsPh-fGWhOBq",
        "outputId": "689170ca-d483-41c4-91a1-2cc1ef862b14"
      },
      "outputs": [
        {
          "name": "stdout",
          "output_type": "stream",
          "text": [
            "CPU times: user 4min 32s, sys: 13.5 s, total: 4min 45s\n",
            "Wall time: 4min 29s\n"
          ]
        }
      ],
      "source": [
        "%%time\n",
        "y_val_pred = []\n",
        "\n",
        "for i in X_val:\n",
        "    i = np.expand_dims(i, axis=0)\n",
        "    prediction = model_mobileNet.predict(i)\n",
        "    y_val_pred.extend(prediction[0])"
      ]
    },
    {
      "cell_type": "code",
      "execution_count": null,
      "metadata": {
        "colab": {
          "base_uri": "https://localhost:8080/"
        },
        "id": "e4H1AEUbhN_C",
        "outputId": "4b6758e6-e1e3-43c8-f69d-63798a8bb4b5"
      },
      "outputs": [
        {
          "name": "stdout",
          "output_type": "stream",
          "text": [
            "Test_MSE: 0.415196\n"
          ]
        }
      ],
      "source": [
        "# Calculation of Mean Squared Error (MSE)\n",
        "print('Test_MSE: %f' % mean_squared_error(y_val,y_val_pred))"
      ]
    },
    {
      "cell_type": "code",
      "execution_count": null,
      "metadata": {
        "id": "7R2ov1UOgnoN"
      },
      "outputs": [],
      "source": []
    },
    {
      "cell_type": "markdown",
      "metadata": {
        "id": "4rjx97tvhhp1"
      },
      "source": [
        "## 2.5 Auto-encoder"
      ]
    },
    {
      "cell_type": "code",
      "execution_count": null,
      "metadata": {
        "id": "gc2z7NXshcAs"
      },
      "outputs": [],
      "source": [
        "from keras.layers import MaxPooling2D, Dropout,UpSampling2D, BatchNormalization"
      ]
    },
    {
      "cell_type": "code",
      "execution_count": null,
      "metadata": {
        "id": "e3eu-N7Fhb_J"
      },
      "outputs": [],
      "source": [
        "def keras_model(image_x, image_y):\n",
        "    \n",
        "    model = Sequential()\n",
        "    model.add(Lambda(lambda x: x / 127.5 - 1., input_shape=img_size))\n",
        "    \n",
        "    model.add(Conv2D(128, (3, 3), activation='relu', padding='same'))\n",
        "    model.add(BatchNormalization())\n",
        "    model.add(MaxPooling2D((2, 2), padding='valid'))\n",
        "    \n",
        "    model.add(Conv2D(64, (3, 3), activation='relu', padding='same'))\n",
        "    model.add(BatchNormalization())\n",
        "    model.add(MaxPooling2D((2, 2), padding='valid'))\n",
        "    \n",
        "    model.add(Conv2D(32, (3, 3), activation='relu', padding='same'))\n",
        "    model.add(BatchNormalization())\n",
        "    model.add(MaxPooling2D((2, 2), padding='valid'))\n",
        "    \n",
        "    #decoder\n",
        "    model.add(Conv2D(32, (3, 3), activation='relu', padding='same'))\n",
        "    model.add(BatchNormalization())\n",
        "    model.add(UpSampling2D((2, 2)))\n",
        "    \n",
        "    model.add(Conv2D(64, (3, 3), activation='relu', padding='same'))\n",
        "    model.add(BatchNormalization())\n",
        "    model.add(UpSampling2D((2, 2)))\n",
        "    \n",
        "    model.add(Conv2D(128, (3, 3), activation='relu', padding='same'))\n",
        "    model.add(BatchNormalization())\n",
        "    model.add(UpSampling2D((2, 2)))\n",
        "    \n",
        "    model.add(Conv2D(1, (3, 3), activation='relu', padding='same'))\n",
        "    model.add(Flatten())\n",
        "    model.add(Dropout(0.5))\n",
        "    model.add(Dense(64))\n",
        "    model.add(Dense(1))\n",
        "\n",
        "    model.compile(optimizer=Adam(learning_rate=0.0001), loss=\"mse\")\n",
        "    \n",
        "    model.summary()\n",
        "    return model"
      ]
    },
    {
      "cell_type": "code",
      "execution_count": null,
      "metadata": {
        "colab": {
          "base_uri": "https://localhost:8080/"
        },
        "id": "gKH0RcDThb7d",
        "outputId": "d4963fcc-8d4f-4fe7-bf41-205b6ea2fcbb"
      },
      "outputs": [
        {
          "name": "stdout",
          "output_type": "stream",
          "text": [
            "Model: \"sequential\"\n",
            "_________________________________________________________________\n",
            " Layer (type)                Output Shape              Param #   \n",
            "=================================================================\n",
            " lambda_1 (Lambda)           (None, 66, 200, 3)        0         \n",
            "                                                                 \n",
            " conv2d (Conv2D)             (None, 66, 200, 128)      3584      \n",
            "                                                                 \n",
            " batch_normalization (BatchN  (None, 66, 200, 128)     512       \n",
            " ormalization)                                                   \n",
            "                                                                 \n",
            " max_pooling2d_3 (MaxPooling  (None, 33, 100, 128)     0         \n",
            " 2D)                                                             \n",
            "                                                                 \n",
            " conv2d_1 (Conv2D)           (None, 33, 100, 64)       73792     \n",
            "                                                                 \n",
            " batch_normalization_1 (Batc  (None, 33, 100, 64)      256       \n",
            " hNormalization)                                                 \n",
            "                                                                 \n",
            " max_pooling2d_4 (MaxPooling  (None, 16, 50, 64)       0         \n",
            " 2D)                                                             \n",
            "                                                                 \n",
            " conv2d_2 (Conv2D)           (None, 16, 50, 32)        18464     \n",
            "                                                                 \n",
            " batch_normalization_2 (Batc  (None, 16, 50, 32)       128       \n",
            " hNormalization)                                                 \n",
            "                                                                 \n",
            " max_pooling2d_5 (MaxPooling  (None, 8, 25, 32)        0         \n",
            " 2D)                                                             \n",
            "                                                                 \n",
            " conv2d_3 (Conv2D)           (None, 8, 25, 32)         9248      \n",
            "                                                                 \n",
            " batch_normalization_3 (Batc  (None, 8, 25, 32)        128       \n",
            " hNormalization)                                                 \n",
            "                                                                 \n",
            " up_sampling2d (UpSampling2D  (None, 16, 50, 32)       0         \n",
            " )                                                               \n",
            "                                                                 \n",
            " conv2d_4 (Conv2D)           (None, 16, 50, 64)        18496     \n",
            "                                                                 \n",
            " batch_normalization_4 (Batc  (None, 16, 50, 64)       256       \n",
            " hNormalization)                                                 \n",
            "                                                                 \n",
            " up_sampling2d_1 (UpSampling  (None, 32, 100, 64)      0         \n",
            " 2D)                                                             \n",
            "                                                                 \n",
            " conv2d_5 (Conv2D)           (None, 32, 100, 128)      73856     \n",
            "                                                                 \n",
            " batch_normalization_5 (Batc  (None, 32, 100, 128)     512       \n",
            " hNormalization)                                                 \n",
            "                                                                 \n",
            " up_sampling2d_2 (UpSampling  (None, 64, 200, 128)     0         \n",
            " 2D)                                                             \n",
            "                                                                 \n",
            " conv2d_6 (Conv2D)           (None, 64, 200, 1)        1153      \n",
            "                                                                 \n",
            " flatten_2 (Flatten)         (None, 12800)             0         \n",
            "                                                                 \n",
            " dropout_4 (Dropout)         (None, 12800)             0         \n",
            "                                                                 \n",
            " dense_8 (Dense)             (None, 64)                819264    \n",
            "                                                                 \n",
            " dense_9 (Dense)             (None, 1)                 65        \n",
            "                                                                 \n",
            "=================================================================\n",
            "Total params: 1,019,714\n",
            "Trainable params: 1,018,818\n",
            "Non-trainable params: 896\n",
            "_________________________________________________________________\n",
            "CPU times: user 375 ms, sys: 24.9 ms, total: 400 ms\n",
            "Wall time: 382 ms\n"
          ]
        }
      ],
      "source": [
        "%%time\n",
        "model_AE = keras_model(66,200)\n",
        "filepath = \"./drive/MyDrive/Colab_Notebooks/MSDS462-Computer_Vision-Final_Project/models/self_drive_AE.h5\"\n",
        "\n",
        "es = EarlyStopping(monitor='val_loss', verbose=1)\n",
        "checkpoint = ModelCheckpoint(filepath, verbose=1,monitor='val_loss', save_best_only=True)\n",
        "callbacks_list = [es,checkpoint,hist]"
      ]
    },
    {
      "cell_type": "code",
      "execution_count": null,
      "metadata": {
        "colab": {
          "base_uri": "https://localhost:8080/"
        },
        "id": "8FPfv38-hb6E",
        "outputId": "c1447ad2-eeee-46e9-f0e7-b0d9fdb85aa8"
      },
      "outputs": [
        {
          "name": "stdout",
          "output_type": "stream",
          "text": [
            "Epoch 1/20\n",
            "1278/1278 [==============================] - ETA: 0s - loss: 0.4248\n",
            "Epoch 1: val_loss improved from inf to 0.26597, saving model to ./drive/MyDrive/Colab_Notebooks/MSDS462-Computer_Vision-Final_Project/models/self_drive_AE.h5\n",
            "1278/1278 [==============================] - 64s 49ms/step - loss: 0.4248 - val_loss: 0.2660\n",
            "Epoch 2/20\n",
            "1277/1278 [============================>.] - ETA: 0s - loss: 0.2396\n",
            "Epoch 2: val_loss did not improve from 0.26597\n",
            "1278/1278 [==============================] - 60s 47ms/step - loss: 0.2396 - val_loss: 0.2986\n",
            "Epoch 2: early stopping\n",
            "CPU times: user 1min 43s, sys: 7.15 s, total: 1min 50s\n",
            "Wall time: 2min 7s\n"
          ]
        }
      ],
      "source": [
        "%%time\n",
        "history = model_AE.fit(X_train, y_train, validation_data=(X_val, y_val), epochs=20, batch_size=32,callbacks=callbacks_list)\n",
        "model_AE.save(filepath)"
      ]
    },
    {
      "cell_type": "code",
      "execution_count": null,
      "metadata": {
        "colab": {
          "base_uri": "https://localhost:8080/",
          "height": 295
        },
        "id": "TGYpZQMDhb2t",
        "outputId": "7719262d-f20e-4784-9057-a9ee017f998e"
      },
      "outputs": [
        {
          "data": {
            "image/png": "[encoded data removed]",
            "text/plain": [
              "<Figure size 864x288 with 1 Axes>"
            ]
          },
          "metadata": {
            "needs_background": "light"
          },
          "output_type": "display_data"
        }
      ],
      "source": [
        "# history plot for accuracy\n",
        "plt.figure(figsize=(12,4))\n",
        "plt.plot(history.history[\"loss\"])\n",
        "plt.plot(history.history[\"val_loss\"])\n",
        "plt.title(\"Model Loss\")\n",
        "plt.xlabel(\"Epoch\")\n",
        "plt.ylabel(\"Loss\")\n",
        "plt.legend([\"train\", \"test\"])\n",
        "plt.show()"
      ]
    },
    {
      "cell_type": "code",
      "execution_count": null,
      "metadata": {
        "id": "0QVpNhjJhb0V"
      },
      "outputs": [],
      "source": []
    },
    {
      "cell_type": "markdown",
      "metadata": {
        "id": "Gc81tysfiF35"
      },
      "source": [
        "### 2.5.1 Prediction"
      ]
    },
    {
      "cell_type": "code",
      "execution_count": null,
      "metadata": {
        "colab": {
          "base_uri": "https://localhost:8080/"
        },
        "id": "cuNqEYW5hbx1",
        "outputId": "3ca44441-8038-4c06-a14d-3e2d94b76443"
      },
      "outputs": [
        {
          "name": "stdout",
          "output_type": "stream",
          "text": [
            "CPU times: user 435 ms, sys: 80.4 ms, total: 516 ms\n",
            "Wall time: 506 ms\n"
          ]
        }
      ],
      "source": [
        "%%time\n",
        "model_AE = tf.keras.models.load_model(filepath)"
      ]
    },
    {
      "cell_type": "code",
      "execution_count": null,
      "metadata": {
        "colab": {
          "base_uri": "https://localhost:8080/"
        },
        "id": "39UIUFcWhbvZ",
        "outputId": "d947fd24-2511-4b84-a4df-850f21366993"
      },
      "outputs": [
        {
          "name": "stdout",
          "output_type": "stream",
          "text": [
            "CPU times: user 4min 16s, sys: 14.4 s, total: 4min 30s\n",
            "Wall time: 4min 17s\n"
          ]
        }
      ],
      "source": [
        "%%time\n",
        "y_val_pred = []\n",
        "\n",
        "for i in X_val:\n",
        "    i = np.expand_dims(i, axis=0)\n",
        "    prediction = model_AE.predict(i)\n",
        "    y_val_pred.extend(prediction[0])"
      ]
    },
    {
      "cell_type": "code",
      "execution_count": null,
      "metadata": {
        "colab": {
          "base_uri": "https://localhost:8080/"
        },
        "id": "1FEhTtGqiKDE",
        "outputId": "a23c3cba-ed73-4fe2-c8da-4d6ccc024f5b"
      },
      "outputs": [
        {
          "name": "stdout",
          "output_type": "stream",
          "text": [
            "Test_MSE: 0.298610\n"
          ]
        }
      ],
      "source": [
        "# Calculation of Mean Squared Error (MSE)\n",
        "print('Test_MSE: %f' % mean_squared_error(y_val,y_val_pred))"
      ]
    },
    {
      "cell_type": "code",
      "execution_count": null,
      "metadata": {
        "id": "PniUyGM3iKBo"
      },
      "outputs": [],
      "source": []
    },
    {
      "cell_type": "markdown",
      "metadata": {
        "id": "M_h1stHF_4Ya"
      },
      "source": [
        "# 3. Model comparison"
      ]
    },
    {
      "cell_type": "code",
      "execution_count": null,
      "metadata": {
        "id": "CZvMvCO5_4Ya"
      },
      "outputs": [],
      "source": [
        "from prettytable import PrettyTable"
      ]
    },
    {
      "cell_type": "code",
      "execution_count": null,
      "metadata": {
        "id": "niWLSUCe_4Ya",
        "outputId": "a962299b-06c1-4536-ffdf-2a1c764fe714"
      },
      "outputs": [
        {
          "name": "stdout",
          "output_type": "stream",
          "text": [
            "+---+------------------------------------------------------------------------+-----------------+----------+\n",
            "| # |                                 Model                                  | Validation Loss |   MSE    |\n",
            "+---+------------------------------------------------------------------------+-----------------+----------+\n",
            "| 1 |                           Base model - zero                            |    Not Avail    | 0.276331 |\n",
            "| 2 |                           Base model - mean                            |    Not Avail    | 0.275442 |\n",
            "| 3 |               End-to-end learning (Nvidia architecture)                |     0.01957     | 0.020945 |\n",
            "| 4 | (Modified) End-to-end learning (Nvidia architecture) - with MaxPooling |     0.27633     | 0.276331 |\n",
            "| 5 |                                 VGG16                                  |     1.21666     | 1.216659 |\n",
            "| 6 |                              MobileNetV2                               |      0.4152     | 0.415196 |\n",
            "| 7 |                              Auto-encoder                              |     0.26597     | 0.29861  |\n",
            "+---+------------------------------------------------------------------------+-----------------+----------+\n"
          ]
        }
      ],
      "source": [
        "x = PrettyTable()\n",
        "x.field_names = [\"#\", \"Model\", \"Validation Loss\", \"MSE\"]\n",
        "x.add_row([1, \"Base model - zero\", \"Not Avail\", 0.276331])\n",
        "x.add_row([2, \"Base model - mean\", \"Not Avail\", 0.275442])\n",
        "x.add_row([3, \"End-to-end learning (Nvidia architecture)\", 0.01957, 0.020945])\n",
        "x.add_row([4, \"(Modified) End-to-end learning (Nvidia architecture) - with MaxPooling\", 0.27633, 0.276331])\n",
        "x.add_row([5, \"VGG16\", 1.21666, 1.216659])\n",
        "x.add_row([6, \"MobileNetV2\", 0.4152, 0.415196])\n",
        "x.add_row([7, \"Auto-encoder\", 0.26597, 0.298610])\n",
        "print(x)"
      ]
    },
    {
      "cell_type": "code",
      "execution_count": null,
      "metadata": {
        "id": "ZUdfakT7_4Ya"
      },
      "outputs": [],
      "source": []
    }
  ],
  "metadata": {
    "accelerator": "GPU",
    "colab": {
      "collapsed_sections": [],
      "machine_shape": "hm",
      "name": "02_Model_Development.ipynb",
      "provenance": [],
      "include_colab_link": true
    },
    "gpuClass": "standard",
    "kernelspec": {
      "display_name": "Python 3 (ipykernel)",
      "language": "python",
      "name": "python3"
    },
    "language_info": {
      "codemirror_mode": {
        "name": "ipython",
        "version": 3
      },
      "file_extension": ".py",
      "mimetype": "text/x-python",
      "name": "python",
      "nbconvert_exporter": "python",
      "pygments_lexer": "ipython3",
      "version": "3.9.7"
    }
  },
  "nbformat": 4,
  "nbformat_minor": 0
}